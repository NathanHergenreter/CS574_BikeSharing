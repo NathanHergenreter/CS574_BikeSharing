{
 "cells": [
  {
   "cell_type": "code",
   "execution_count": 111,
   "metadata": {},
   "outputs": [],
   "source": [
    "import pandas as pd\n",
    "import numpy as np\n",
    "import statsmodels.api as sm\n",
    "import matplotlib.pyplot as plt\n",
    "\n",
    "\n",
    "from sklearn.preprocessing import StandardScaler\n",
    "from sklearn.model_selection import train_test_split\n",
    "from sklearn.metrics import r2_score\n",
    "from sklearn.metrics import mean_squared_log_error\n",
    "from sklearn.pipeline import make_pipeline, Pipeline\n",
    "from sklearn.model_selection import GridSearchCV, cross_val_score\n",
    "from sklearn.metrics import make_scorer, mean_squared_error, r2_score\n",
    "from sklearn.linear_model import LinearRegression, LassoCV, RidgeCV, Lasso, Ridge\n",
    "\n",
    "\n",
    "\n",
    "from sklearn.linear_model import LassoCV, Lasso\n",
    "import numpy as np\n",
    "from sklearn.datasets import make_regression\n",
    "\n",
    "\n",
    "\n",
    "from csv_reader import *\n",
    "from csv_setup import *"
   ]
  },
  {
   "cell_type": "code",
   "execution_count": 112,
   "metadata": {},
   "outputs": [
    {
     "name": "stdout",
     "output_type": "stream",
     "text": [
      "Index(['hr', 'holiday', 'workingday', 'weathersit', 'atemp', 'hum',\n",
      "       'windspeed', 'cnt', 'no_snow', 'medium_snow', 'heavy_snow'],\n",
      "      dtype='object')\n"
     ]
    }
   ],
   "source": [
    "bike_sharing_df = get_bike_sharing_df_clean()\n",
    "bike_sharing_df.columns\n",
    "\n",
    "\n",
    "print(bike_sharing_df.columns)\n"
   ]
  },
  {
   "cell_type": "code",
   "execution_count": 132,
   "metadata": {},
   "outputs": [
    {
     "name": "stdout",
     "output_type": "stream",
     "text": [
      "7445     109\n",
      "13512      6\n",
      "6158       8\n",
      "13205    175\n",
      "1616      86\n",
      "        ... \n",
      "10955    537\n",
      "17289     51\n",
      "5192     101\n",
      "12172    270\n",
      "235        3\n",
      "Name: cnt, Length: 11643, dtype: int64\n"
     ]
    },
    {
     "data": {
      "image/png": "[encoded data removed]",
      "text/plain": [
       "<Figure size 432x288 with 1 Axes>"
      ]
     },
     "metadata": {
      "needs_background": "light"
     },
     "output_type": "display_data"
    }
   ],
   "source": [
    "\n",
    "\n",
    "\n",
    "Y = bike_sharing_df.cnt\n",
    "X = bike_sharing_df.loc[:].drop(columns=[\"cnt\"])\n",
    "\n",
    "\n",
    "\n",
    "\n",
    "X_train, x_test, y_train, y_test = train_test_split(X, Y, test_size = 0.33, random_state = 1)\n",
    "print(y_train)\n",
    "\n",
    "n_folds = 10\n",
    "n_alphas = 200\n",
    "alphas = np.logspace(-5, 5, n_alphas) #grid search for lambda (aka 'alpha')\n",
    "\n",
    "parameters = { 'lasso__alpha':alphas}\n",
    "\n",
    "scaler = StandardScaler()\n",
    "lasso = Lasso(normalize=True,tol=2,fit_intercept=True) #we will pass through alpha values later\n",
    "pipe = make_pipeline(scaler, lasso)\n",
    "\n",
    "gs = GridSearchCV(pipe, parameters, scoring='neg_mean_squared_error', cv=n_folds)\n",
    "gs.fit(X_train,y_train)\n",
    "\n",
    "alphas = np.logspace(-5, 5, n_alphas) #grid search for lambda (aka 'alpha')\n",
    "\n",
    "coefs = []\n",
    "# print(pipe.get_params().keys()) #reports input names can set (look for the hyper-parameters)\n",
    "parameters = {'lasso__alpha':alphas}\n",
    "# model = GridSearchCV(pipe, parameters, scoring='neg_mean_squared_error', cv=n_folds)\n",
    "# model.fit(X_train,y_train)\n",
    "for a in alphas:\n",
    "    pipe.set_params(lasso__alpha=a)\n",
    "    pipe.fit(X_train, y_train)\n",
    "    coefs.append(pipe.named_steps['lasso'].coef_)\n",
    "\n",
    "plt.figure()\n",
    "ax = plt.gca()\n",
    "ax.plot(alphas, coefs)\n",
    "ax.set_xscale('log')\n",
    "\n",
    "plt.axis('tight')\n",
    "plt.xlabel('alpha')\n",
    "plt.ylabel('Coefficients');\n",
    "\n",
    "\n",
    "# plt.figure()\n",
    "# ax = plt.gca()\n",
    "# ax.plot(alphas, coefs,'o')\n",
    "# ax.set_xscale('log')\n",
    "#\n",
    "# plt.axis('tight')\n",
    "# plt.xlabel('alpha')\n",
    "# plt.ylabel('Coefficients')\n",
    "# plt.title('Zoomed in')\n",
    "# plt.xlim(.01,100)\n"
   ]
  },
  {
   "cell_type": "code",
   "execution_count": 133,
   "metadata": {
    "scrolled": true
   },
   "outputs": [
    {
     "data": {
      "text/plain": [
       "array([ 0., -0.,  0., -0.,  0., -0.,  0.,  0., -0., -0.])"
      ]
     },
     "execution_count": 133,
     "metadata": {},
     "output_type": "execute_result"
    }
   ],
   "source": [
    "# coefficients {𝛽1,…,𝛽𝑝} for the last fitted model in the above for loop\n",
    "pipe.named_steps['lasso'].coef_"
   ]
  },
  {
   "cell_type": "code",
   "execution_count": 134,
   "metadata": {},
   "outputs": [
    {
     "data": {
      "text/plain": [
       "188.19144550373616"
      ]
     },
     "execution_count": 134,
     "metadata": {},
     "output_type": "execute_result"
    }
   ],
   "source": [
    "# B0\n",
    "pipe.named_steps['lasso'].intercept_"
   ]
  },
  {
   "cell_type": "code",
   "execution_count": 135,
   "metadata": {},
   "outputs": [
    {
     "data": {
      "text/plain": [
       "188.19144550373616"
      ]
     },
     "execution_count": 135,
     "metadata": {},
     "output_type": "execute_result"
    }
   ],
   "source": [
    "# Average of Y's\n",
    "np.mean(y_train)"
   ]
  },
  {
   "cell_type": "code",
   "execution_count": 136,
   "metadata": {},
   "outputs": [
    {
     "name": "stdout",
     "output_type": "stream",
     "text": [
      "0.08309941949353396\n"
     ]
    }
   ],
   "source": [
    "# Best alpha\n",
    "best_alpha = gs.best_params_['lasso__alpha']\n",
    "print(best_alpha)"
   ]
  },
  {
   "cell_type": "code",
   "execution_count": 137,
   "metadata": {},
   "outputs": [
    {
     "name": "stdout",
     "output_type": "stream",
     "text": [
      "[ 52.24227059  -4.21419196   1.63022268  -0.60766097  52.62030134\n",
      " -42.56584069   1.79189654   4.84028503  -0.         -12.33696008]\n"
     ]
    }
   ],
   "source": [
    "scaler = StandardScaler()\n",
    "lasso = Lasso(alpha=best_alpha,normalize=False,fit_intercept=True) #we will pass through alpha values later\n",
    "pipe = make_pipeline(scaler, lasso)\n",
    "pipe.fit(X_train, y_train)\n",
    "\n",
    "best_coef_lasso = pipe.named_steps['lasso'].coef_\n",
    "\n",
    "# print('The final set of coefficients: ')\n",
    "print(best_coef_lasso)"
   ]
  },
  {
   "cell_type": "code",
   "execution_count": 140,
   "metadata": {},
   "outputs": [
    {
     "name": "stdout",
     "output_type": "stream",
     "text": [
      "\n",
      "Coefficients  [lasso]\n",
      "   Feature  0:  52.24\n",
      "   Feature  1:  -4.21\n",
      "   Feature  2:  1.63\n",
      "   Feature  3:  -0.61\n",
      "   Feature  4:  52.62\n",
      "   Feature  5:  -42.57\n",
      "   Feature  6:  1.79\n",
      "   Feature  7:  4.84\n",
      "   Feature  8:  -0.00\n",
      "   Feature  9:  -12.34\n"
     ]
    }
   ],
   "source": [
    "print('\\nCoefficients  [lasso]')\n",
    "for i in range(0,10):\n",
    "    print('   Feature %2i:  %.2f'%(i,\\\n",
    "                    best_coef_lasso[i]))"
   ]
  },
  {
   "cell_type": "code",
   "execution_count": 141,
   "metadata": {},
   "outputs": [
    {
     "data": {
      "text/plain": [
       "9"
      ]
     },
     "execution_count": 141,
     "metadata": {},
     "output_type": "execute_result"
    }
   ],
   "source": [
    "np.count_nonzero(best_coef_lasso)"
   ]
  },
  {
   "cell_type": "code",
   "execution_count": 142,
   "metadata": {},
   "outputs": [
    {
     "name": "stdout",
     "output_type": "stream",
     "text": [
      "\n",
      "Test set MSE using Lasso coefficients: 22840.36\n"
     ]
    }
   ],
   "source": [
    "y_pred = pipe.predict(x_test)\n",
    "mse_test_using_lasso = mean_squared_error(y_test,y_pred)\n",
    "# print(mse_test_using_coef_true)\n",
    "print('\\nTest set MSE using Lasso coefficients: %.2f'%mse_test_using_lasso)\n",
    "np.set_printoptions(threshold=np.inf)\n"
   ]
  },
  {
   "cell_type": "code",
   "execution_count": 146,
   "metadata": {},
   "outputs": [
    {
     "name": "stdout",
     "output_type": "stream",
     "text": [
      "Train Score: \n",
      "0.33007952248513583\n",
      "\n",
      "Test Score: \n",
      "0.33117176844572527\n"
     ]
    }
   ],
   "source": [
    "\n",
    "lm = pipe\n",
    "\n",
    "\n",
    "\n",
    "y_train_pred = lm.predict(X_train)\n",
    "y_test_pred = lm.predict(x_test)\n",
    "\n",
    "print('Train Score: ')\n",
    "print(r2_score(y_train, y_train_pred))\n",
    "\n",
    "print('\\nTest Score: ')\n",
    "print(r2_score(y_test, y_test_pred))"
   ]
  },
  {
   "cell_type": "code",
   "execution_count": null,
   "metadata": {},
   "outputs": [],
   "source": []
  },
  {
   "cell_type": "code",
   "execution_count": null,
   "metadata": {},
   "outputs": [],
   "source": []
  }
 ],
 "metadata": {
  "kernelspec": {
   "display_name": "Python 3",
   "language": "python",
   "name": "python3"
  },
  "language_info": {
   "codemirror_mode": {
    "name": "ipython",
    "version": 3
   },
   "file_extension": ".py",
   "mimetype": "text/x-python",
   "name": "python",
   "nbconvert_exporter": "python",
   "pygments_lexer": "ipython3",
   "version": "3.8.8"
  }
 },
 "nbformat": 4,
 "nbformat_minor": 2
}
