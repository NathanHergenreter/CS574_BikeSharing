{
 "cells": [
  {
   "cell_type": "code",
   "execution_count": 110,
   "metadata": {},
   "outputs": [],
   "source": [
    "import pandas as pd\n",
    "import numpy as np\n",
    "import statsmodels.api as sm\n",
    "import matplotlib.pyplot as plt\n",
    "\n",
    "\n",
    "from sklearn.preprocessing import StandardScaler\n",
    "from sklearn.model_selection import train_test_split\n",
    "from sklearn.metrics import r2_score\n",
    "from sklearn.metrics import mean_squared_log_error\n",
    "from sklearn.pipeline import make_pipeline, Pipeline\n",
    "from sklearn.model_selection import GridSearchCV, cross_val_score\n",
    "from sklearn.metrics import make_scorer, mean_squared_error, r2_score\n",
    "from sklearn.linear_model import LinearRegression, LassoCV, RidgeCV, Lasso, Ridge\n",
    "\n",
    "\n",
    "from sklearn.linear_model import LassoCV, Lasso\n",
    "import numpy as np\n",
    "from sklearn.datasets import make_regression\n",
    "\n",
    "from csv_reader import *\n",
    "from csv_setup import *\n"
   ]
  },
  {
   "cell_type": "code",
   "execution_count": 111,
   "metadata": {},
   "outputs": [],
   "source": [
    "from sklearn.preprocessing import MinMaxScaler\n",
    "\n",
    "# This function will normalize the count column\n",
    "# This will decrease the variance, and therefore reduce the Test MSE\n",
    "\n",
    "def get_bike_sharing_df_clean_mod():\n",
    "    # Copy orig to new df\n",
    "    bike_sharing_df_orig = get_bike_sharing_df_clean()\n",
    "    bike_sharing_df = bike_sharing_df_orig.copy()\n",
    "    \n",
    "    values = bike_sharing_df.values    \n",
    "    scaler = MinMaxScaler()\n",
    "    values_scale = scaler.fit_transform(values)\n",
    "    temp_df = pd.DataFrame(values_scale)\n",
    "    \n",
    "    \n",
    "    bike_sharing_df['cnt'] = temp_df[7]\n",
    "    \n",
    "    return bike_sharing_df"
   ]
  },
  {
   "cell_type": "code",
   "execution_count": 112,
   "metadata": {},
   "outputs": [
    {
     "name": "stdout",
     "output_type": "stream",
     "text": [
      "Columns of the dataframe: \n",
      "Index(['hr', 'holiday', 'workingday', 'weathersit', 'atemp', 'hum',\n",
      "       'windspeed', 'cnt', 'no_snow', 'medium_snow', 'heavy_snow'],\n",
      "      dtype='object')\n"
     ]
    }
   ],
   "source": [
    "# If you want to see the normalized results uncomment line 2 and comment line 4\n",
    "# bike_sharing_df = get_bike_sharing_df_clean_mod()\n",
    "\n",
    "bike_sharing_df = get_bike_sharing_df_clean()\n",
    "\n",
    "\n",
    "print(\"Columns of the dataframe: \\n\" + str(bike_sharing_df.columns))\n",
    "\n",
    "# printing the entire dataframe\n",
    "#pd.set_option('display.max_rows', None)\n",
    "#pd.set_option('display.max_columns', None)\n",
    "#print(bike_sharing_df)\n"
   ]
  },
  {
   "cell_type": "code",
   "execution_count": 139,
   "metadata": {},
   "outputs": [
    {
     "data": {
      "image/png": "[encoded data removed]",
      "text/plain": [
       "<Figure size 432x288 with 1 Axes>"
      ]
     },
     "metadata": {
      "needs_background": "light"
     },
     "output_type": "display_data"
    }
   ],
   "source": [
    "\n",
    "\n",
    "# Count variable that we are going to be predicting\n",
    "Y = bike_sharing_df.cnt\n",
    "# Features that we are going to be fitting\n",
    "X = bike_sharing_df.loc[:].drop(columns=[\"cnt\"])\n",
    "\n",
    "# Split the data\n",
    "X_train, x_test, y_train, y_test = train_test_split(X, Y, test_size = 0.33, random_state = 1)\n",
    "\n",
    "# print(y_train)\n",
    "\n",
    "n_folds = 5\n",
    "n_alphas = 200\n",
    "alphas = np.logspace(0, 5, n_alphas) #grid search for lambda (aka 'alpha')\n",
    "\n",
    "parameters = { 'lasso__alpha':alphas}\n",
    "\n",
    "scaler = StandardScaler()\n",
    "lasso = Lasso(normalize=False,tol=2,fit_intercept=True) #we will pass through alpha values later\n",
    "pipe = make_pipeline(scaler, lasso)\n",
    "\n",
    "gs = GridSearchCV(pipe, parameters, scoring='neg_mean_squared_error', cv=n_folds)\n",
    "gs.fit(X_train,y_train)\n",
    "\n",
    "# 0-5 because of no negative logs\n",
    "alphas = np.logspace(0, 5, n_alphas)\n",
    "\n",
    "coefs = []\n",
    "# print(pipe.get_params().keys()) #reports input names can set (look for the hyper-parameters)\n",
    "parameters = {'lasso__alpha':alphas}\n",
    "# model = GridSearchCV(pipe, parameters, scoring='neg_mean_squared_error', cv=n_folds)\n",
    "# model.fit(X_train,y_train)\n",
    "for a in alphas:\n",
    "    pipe.set_params(lasso__alpha=a)\n",
    "    pipe.fit(X_train, y_train)\n",
    "    coefs.append(pipe.named_steps['lasso'].coef_)\n",
    "\n",
    "plt.figure()\n",
    "ax = plt.gca()\n",
    "ax.plot(alphas, coefs)\n",
    "ax.set_xscale('log')\n",
    "\n",
    "plt.axis('tight')\n",
    "plt.xlabel('alpha')\n",
    "plt.ylabel('Coefficients');\n",
    "\n",
    "\n",
    "# plt.figure()\n",
    "# ax = plt.gca()\n",
    "# ax.plot(alphas, coefs,'o')\n",
    "# ax.set_xscale('log')\n",
    "#\n",
    "# plt.axis('tight')\n",
    "# plt.xlabel('alpha')\n",
    "# plt.ylabel('Coefficients')\n",
    "# plt.title('Zoomed in')\n",
    "# plt.xlim(.01,100)\n"
   ]
  },
  {
   "cell_type": "code",
   "execution_count": 140,
   "metadata": {
    "scrolled": true
   },
   "outputs": [
    {
     "data": {
      "text/plain": [
       "array([ 0., -0.,  0., -0.,  0., -0.,  0.,  0., -0., -0.])"
      ]
     },
     "execution_count": 140,
     "metadata": {},
     "output_type": "execute_result"
    }
   ],
   "source": [
    "# coefficients {𝛽1,…,𝛽𝑝} for the last fitted model in the above for loop\n",
    "pipe.named_steps['lasso'].coef_"
   ]
  },
  {
   "cell_type": "code",
   "execution_count": 141,
   "metadata": {},
   "outputs": [
    {
     "data": {
      "text/plain": [
       "188.19144550373616"
      ]
     },
     "execution_count": 141,
     "metadata": {},
     "output_type": "execute_result"
    }
   ],
   "source": [
    "# B0\n",
    "pipe.named_steps['lasso'].intercept_"
   ]
  },
  {
   "cell_type": "code",
   "execution_count": 142,
   "metadata": {},
   "outputs": [
    {
     "data": {
      "text/plain": [
       "188.19144550373616"
      ]
     },
     "execution_count": 142,
     "metadata": {},
     "output_type": "execute_result"
    }
   ],
   "source": [
    "# Average of Y's\n",
    "np.mean(y_train)"
   ]
  },
  {
   "cell_type": "code",
   "execution_count": 143,
   "metadata": {},
   "outputs": [
    {
     "name": "stdout",
     "output_type": "stream",
     "text": [
      "8.50448934180268\n"
     ]
    }
   ],
   "source": [
    "# Best alpha\n",
    "best_alpha = gs.best_params_['lasso__alpha']\n",
    "print(best_alpha)"
   ]
  },
  {
   "cell_type": "code",
   "execution_count": 144,
   "metadata": {},
   "outputs": [
    {
     "name": "stdout",
     "output_type": "stream",
     "text": [
      "[ 45.93553967  -0.           0.          -0.          52.96956004\n",
      " -35.0163209    0.           0.          -0.          -4.88434863]\n"
     ]
    }
   ],
   "source": [
    "scaler = StandardScaler()\n",
    "scaler.fit(X_train)\n",
    "\n",
    "lasso = Lasso(alpha=best_alpha,normalize=False,fit_intercept=True) #we will pass through alpha values later\n",
    "pipe = make_pipeline(scaler, lasso)\n",
    "pipe.fit(X_train, y_train)\n",
    "\n",
    "best_coef_lasso = pipe.named_steps['lasso'].coef_\n",
    "\n",
    "# print('The final set of coefficients: ')\n",
    "print(best_coef_lasso)"
   ]
  },
  {
   "cell_type": "code",
   "execution_count": 145,
   "metadata": {},
   "outputs": [
    {
     "name": "stdout",
     "output_type": "stream",
     "text": [
      "\n",
      "Coefficients  [lasso]\n",
      "   Feature  0:  45.94\n",
      "   Feature  1:  -0.00\n",
      "   Feature  2:  0.00\n",
      "   Feature  3:  -0.00\n",
      "   Feature  4:  52.97\n",
      "   Feature  5:  -35.02\n",
      "   Feature  6:  0.00\n",
      "   Feature  7:  0.00\n",
      "   Feature  8:  -0.00\n",
      "   Feature  9:  -4.88\n"
     ]
    }
   ],
   "source": [
    "print('\\nCoefficients  [lasso]')\n",
    "for i in range(0,10):\n",
    "    print('   Feature %2i:  %.2f'%(i,\\\n",
    "                    best_coef_lasso[i]))"
   ]
  },
  {
   "cell_type": "code",
   "execution_count": 146,
   "metadata": {},
   "outputs": [
    {
     "data": {
      "text/plain": [
       "4"
      ]
     },
     "execution_count": 146,
     "metadata": {},
     "output_type": "execute_result"
    }
   ],
   "source": [
    "np.count_nonzero(best_coef_lasso)"
   ]
  },
  {
   "cell_type": "code",
   "execution_count": 147,
   "metadata": {},
   "outputs": [
    {
     "name": "stdout",
     "output_type": "stream",
     "text": [
      "[129.21186538 157.74225532 176.45189612 ... 167.63391804 101.05736538\n",
      " 314.33019191]\n",
      "\n",
      "Test set MSE using ridge coefficients: 23108.56\n"
     ]
    }
   ],
   "source": [
    "y_pred = pipe.predict(x_test)\n",
    "\n",
    "print(y_pred)\n",
    "\n",
    "\n",
    "mse_test_using_lasso = mean_squared_error(y_test,y_pred)\n",
    "# print(mse_test_using_coef_true)\n",
    "print('\\nTest set MSE using ridge coefficients: %.2f'%mse_test_using_lasso)\n"
   ]
  },
  {
   "cell_type": "code",
   "execution_count": 148,
   "metadata": {},
   "outputs": [
    {
     "name": "stdout",
     "output_type": "stream",
     "text": [
      "Train Score: \n",
      "0.32234953672588706\n",
      "\n",
      "Test Score: \n",
      "0.3233179650392831\n"
     ]
    }
   ],
   "source": [
    "\n",
    "lm = pipe\n",
    "\n",
    "y_train_pred = lm.predict(X_train)\n",
    "y_test_pred = lm.predict(x_test)\n",
    "\n",
    "print('Train Score: ')\n",
    "print(r2_score(y_train, y_train_pred))\n",
    "\n",
    "print('\\nTest Score: ')\n",
    "print(r2_score(y_test, y_test_pred))"
   ]
  },
  {
   "cell_type": "code",
   "execution_count": 156,
   "metadata": {},
   "outputs": [
    {
     "name": "stdout",
     "output_type": "stream",
     "text": [
      "5736\n",
      "5736\n"
     ]
    },
    {
     "data": {
      "image/png": "[encoded data removed]",
      "text/plain": [
       "<Figure size 432x288 with 1 Axes>"
      ]
     },
     "metadata": {
      "needs_background": "light"
     },
     "output_type": "display_data"
    }
   ],
   "source": [
    "print(len(y_test))\n",
    "print(len(y_pred))\n",
    "residuals = y_test.subtract(y_pred)\n",
    "\n",
    "\n",
    "\n",
    "\n",
    "plt.scatter(residuals,y_pred)\n",
    "\n",
    "plt.show()"
   ]
  },
  {
   "cell_type": "code",
   "execution_count": null,
   "metadata": {},
   "outputs": [],
   "source": []
  },
  {
   "cell_type": "code",
   "execution_count": null,
   "metadata": {},
   "outputs": [],
   "source": []
  }
 ],
 "metadata": {
  "kernelspec": {
   "display_name": "Python 3",
   "language": "python",
   "name": "python3"
  },
  "language_info": {
   "codemirror_mode": {
    "name": "ipython",
    "version": 3
   },
   "file_extension": ".py",
   "mimetype": "text/x-python",
   "name": "python",
   "nbconvert_exporter": "python",
   "pygments_lexer": "ipython3",
   "version": "3.8.8"
  }
 },
 "nbformat": 4,
 "nbformat_minor": 2
}
