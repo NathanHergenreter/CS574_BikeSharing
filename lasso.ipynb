{
 "cells": [
  {
   "cell_type": "code",
   "execution_count": 17,
   "metadata": {},
   "outputs": [],
   "source": [
    "import pandas as pd\n",
    "import numpy as np\n",
    "import statsmodels.api as sm\n",
    "\n",
    "from sklearn.preprocessing import StandardScaler\n",
    "from sklearn.model_selection import train_test_split\n",
    "from sklearn.metrics import r2_score\n",
    "from sklearn.metrics import mean_squared_log_error\n",
    "from sklearn.pipeline import make_pipeline, Pipeline\n",
    "from sklearn.model_selection import GridSearchCV, cross_val_score\n",
    "\n",
    "\n",
    "from sklearn.linear_model import LassoCV, Lasso\n",
    "import numpy as np\n",
    "from sklearn.datasets import make_regression\n",
    "\n",
    "\n",
    "\n",
    "from csv_reader import *"
   ]
  },
  {
   "cell_type": "code",
   "execution_count": null,
   "metadata": {},
   "outputs": [],
   "source": [
    "Y = bike_sharing_df.cnt\n",
    "X = bike_sharing_df.loc[:].drop(columns=[\"dteday\", \"casual\",\"registered\",\"cnt\"])\n",
    "\n",
    "\n",
    "\n",
    "X_train, x_test, y_train, y_test = train_test_split(X, Y, test_size = 0.33, random_state = 1)\n",
    "\n",
    "\n",
    "n_folds = 5\n",
    "n_alphas = 20000\n",
    "alphas = np.logspace(-5, 5, n_alphas) #grid search for lambda (aka 'alpha')\n",
    "\n",
    "parameters = { 'lasso__alpha':alphas}\n",
    "\n",
    "scaler = StandardScaler()\n",
    "lasso = Lasso(normalize=False,fit_intercept=True) #we will pass through alpha values later\n",
    "pipe = make_pipeline(scaler, lasso)\n",
    "\n",
    "gs = GridSearchCV(pipe, parameters, scoring='neg_mean_squared_error', cv=n_folds)\n",
    "gs.fit(X_train,y_train)\n",
    "\n",
    "n_alphas = 20000 \n",
    "alphas = np.logspace(-5, 5, n_alphas) #grid search for lambda (aka 'alpha')\n",
    "\n",
    "coefs = []\n",
    "# print(pipe.get_params().keys()) #reports input names can set (look for the hyper-parameters)\n",
    "parameters = {'lasso__alpha':alphas}\n",
    "# model = GridSearchCV(pipe, parameters, scoring='neg_mean_squared_error', cv=n_folds)\n",
    "# model.fit(X_train,y_train)\n",
    "for a in alphas:\n",
    "    pipe.set_params(lasso__alpha=a)\n",
    "    pipe.fit(X_train, y_train)\n",
    "    coefs.append(pipe.named_steps['lasso'].coef_)\n",
    "\n",
    "plt.figure()\n",
    "ax = plt.gca()\n",
    "ax.plot(alphas, coefs)\n",
    "ax.set_xscale('log')\n",
    "\n",
    "plt.axis('tight')\n",
    "plt.xlabel('alpha')\n",
    "plt.ylabel('Coefficients');\n",
    "\n",
    "\n",
    "# plt.figure()\n",
    "# ax = plt.gca()\n",
    "# ax.plot(alphas, coefs,'o')\n",
    "# ax.set_xscale('log')\n",
    "#\n",
    "# plt.axis('tight')\n",
    "# plt.xlabel('alpha')\n",
    "# plt.ylabel('Coefficients')\n",
    "# plt.title('Zoomed in')\n",
    "# plt.xlim(.01,100)\n"
   ]
  },
  {
   "cell_type": "code",
   "execution_count": 8,
   "metadata": {},
   "outputs": [
    {
     "name": "stdout",
     "output_type": "stream",
     "text": [
      "Index(['instant', 'dteday', 'season', 'yr', 'mnth', 'hr', 'holiday', 'weekday',\n",
      "       'workingday', 'weathersit', 'temp', 'atemp', 'hum', 'windspeed',\n",
      "       'casual', 'registered', 'cnt'],\n",
      "      dtype='object')\n",
      "Train Score: \n",
      "0.3870483509246757\n",
      "\n",
      "Test Score: \n",
      "0.3932628800810949\n"
     ]
    }
   ],
   "source": [
    "bike_sharing_df = get_bike_sharing_df()\n",
    "bike_sharing_df.columns\n",
    "\n",
    "print(bike_sharing_df.columns)\n",
    "\n",
    "\n",
    "\n",
    "\n",
    "\n",
    "lm = sm.OLS(y_train, sm.add_constant(x_train)).fit()\n",
    "\n",
    "y_train_pred = lm.predict(sm.add_constant(x_train))\n",
    "y_test_pred = lm.predict(sm.add_constant(x_test))\n",
    "\n",
    "print('Train Score: ')\n",
    "print(r2_score(y_train, y_train_pred))\n",
    "\n",
    "print('\\nTest Score: ')\n",
    "print(r2_score(y_test, y_test_pred))"
   ]
  },
  {
   "cell_type": "code",
   "execution_count": null,
   "metadata": {},
   "outputs": [],
   "source": []
  },
  {
   "cell_type": "code",
   "execution_count": null,
   "metadata": {},
   "outputs": [],
   "source": []
  }
 ],
 "metadata": {
  "kernelspec": {
   "display_name": "Python 3",
   "language": "python",
   "name": "python3"
  },
  "language_info": {
   "codemirror_mode": {
    "name": "ipython",
    "version": 3
   },
   "file_extension": ".py",
   "mimetype": "text/x-python",
   "name": "python",
   "nbconvert_exporter": "python",
   "pygments_lexer": "ipython3",
   "version": "3.8.8"
  }
 },
 "nbformat": 4,
 "nbformat_minor": 2
}
