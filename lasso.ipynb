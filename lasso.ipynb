{
 "cells": [
  {
   "cell_type": "code",
   "execution_count": 12,
   "metadata": {},
   "outputs": [],
   "source": [
    "import pandas as pd\n",
    "import numpy as np\n",
    "import statsmodels.api as sm\n",
    "import matplotlib.pyplot as plt\n",
    "\n",
    "\n",
    "from sklearn.preprocessing import StandardScaler\n",
    "from sklearn.model_selection import train_test_split\n",
    "from sklearn.metrics import r2_score\n",
    "from sklearn.metrics import mean_squared_log_error\n",
    "from sklearn.pipeline import make_pipeline, Pipeline\n",
    "from sklearn.model_selection import GridSearchCV, cross_val_score\n",
    "\n",
    "\n",
    "from sklearn.linear_model import LassoCV, Lasso\n",
    "import numpy as np\n",
    "from sklearn.datasets import make_regression\n",
    "\n",
    "\n",
    "\n",
    "from csv_reader import *"
   ]
  },
  {
   "cell_type": "code",
   "execution_count": 13,
   "metadata": {},
   "outputs": [
    {
     "name": "stdout",
     "output_type": "stream",
     "text": [
      "       instant  season  yr  mnth  hr  holiday  weekday  workingday  \\\n",
      "7445      7446       4   0    11  20        1        5           0   \n",
      "13512    13513       3   1     7   5        0        0           0   \n",
      "6158      6159       3   0     9   4        0        1           1   \n",
      "13205    13206       3   1     7  10        0        1           1   \n",
      "1616      1617       1   0     3  20        0        6           0   \n",
      "...        ...     ...  ..   ...  ..      ...      ...         ...   \n",
      "10955    10956       2   1     4  15        0        5           1   \n",
      "17289    17290       1   1    12   6        0        5           1   \n",
      "5192      5193       3   0     8   6        0        2           1   \n",
      "12172    12173       2   1     5   9        0        0           0   \n",
      "235        236       1   0     1   2        0        2           1   \n",
      "\n",
      "       weathersit  temp   atemp   hum  windspeed  \n",
      "7445            1  0.32  0.3182  0.39     0.1940  \n",
      "13512           1  0.60  0.5455  0.88     0.0000  \n",
      "6158            2  0.50  0.4848  0.77     0.1642  \n",
      "13205           2  0.66  0.6061  0.83     0.1940  \n",
      "1616            1  0.40  0.4091  0.58     0.1045  \n",
      "...           ...   ...     ...   ...        ...  \n",
      "10955           1  0.50  0.4848  0.27     0.2836  \n",
      "17289           1  0.22  0.2121  0.64     0.2836  \n",
      "5192            1  0.72  0.6667  0.64     0.0000  \n",
      "12172           1  0.66  0.6061  0.83     0.2239  \n",
      "235             2  0.16  0.1515  0.55     0.1940  \n",
      "\n",
      "[11643 rows x 13 columns]\n"
     ]
    },
    {
     "data": {
      "image/png": "[encoded data removed]",
      "text/plain": [
       "<Figure size 432x288 with 1 Axes>"
      ]
     },
     "metadata": {
      "needs_background": "light"
     },
     "output_type": "display_data"
    }
   ],
   "source": [
    "bike_sharing_df = get_bike_sharing_df()\n",
    "bike_sharing_df.columns\n",
    "\n",
    "Y = bike_sharing_df.cnt\n",
    "X = bike_sharing_df.loc[:].drop(columns=[\"dteday\", \"casual\",\"registered\",\"cnt\"])\n",
    "\n",
    "\n",
    "\n",
    "X_train, x_test, y_train, y_test = train_test_split(X, Y, test_size = 0.33, random_state = 1)\n",
    "print(X_train)\n",
    "\n",
    "n_folds = 5\n",
    "n_alphas = 200\n",
    "alphas = np.logspace(-5, 5, n_alphas) #grid search for lambda (aka 'alpha')\n",
    "\n",
    "parameters = { 'lasso__alpha':alphas}\n",
    "\n",
    "scaler = StandardScaler()\n",
    "lasso = Lasso(normalize=True,tol=2,fit_intercept=True) #we will pass through alpha values later\n",
    "pipe = make_pipeline(scaler, lasso)\n",
    "\n",
    "gs = GridSearchCV(pipe, parameters, scoring='neg_mean_squared_error', cv=n_folds)\n",
    "gs.fit(X_train,y_train)\n",
    "\n",
    "alphas = np.logspace(-5, 5, n_alphas) #grid search for lambda (aka 'alpha')\n",
    "\n",
    "coefs = []\n",
    "# print(pipe.get_params().keys()) #reports input names can set (look for the hyper-parameters)\n",
    "parameters = {'lasso__alpha':alphas}\n",
    "# model = GridSearchCV(pipe, parameters, scoring='neg_mean_squared_error', cv=n_folds)\n",
    "# model.fit(X_train,y_train)\n",
    "for a in alphas:\n",
    "    pipe.set_params(lasso__alpha=a)\n",
    "    pipe.fit(X_train, y_train)\n",
    "    coefs.append(pipe.named_steps['lasso'].coef_)\n",
    "\n",
    "plt.figure()\n",
    "ax = plt.gca()\n",
    "ax.plot(alphas, coefs)\n",
    "ax.set_xscale('log')\n",
    "\n",
    "plt.axis('tight')\n",
    "plt.xlabel('alpha')\n",
    "plt.ylabel('Coefficients');\n",
    "\n",
    "\n",
    "# plt.figure()\n",
    "# ax = plt.gca()\n",
    "# ax.plot(alphas, coefs,'o')\n",
    "# ax.set_xscale('log')\n",
    "#\n",
    "# plt.axis('tight')\n",
    "# plt.xlabel('alpha')\n",
    "# plt.ylabel('Coefficients')\n",
    "# plt.title('Zoomed in')\n",
    "# plt.xlim(.01,100)\n"
   ]
  },
  {
   "cell_type": "code",
   "execution_count": 15,
   "metadata": {
    "scrolled": true
   },
   "outputs": [
    {
     "data": {
      "text/plain": [
       "array([ 0.,  0.,  0.,  0.,  0., -0.,  0.,  0., -0.,  0.,  0., -0.,  0.])"
      ]
     },
     "execution_count": 15,
     "metadata": {},
     "output_type": "execute_result"
    }
   ],
   "source": [
    "# coefficients {𝛽1,…,𝛽𝑝} for the last fitted model in the above for loop\n",
    "pipe.named_steps['lasso'].coef_"
   ]
  },
  {
   "cell_type": "code",
   "execution_count": 16,
   "metadata": {},
   "outputs": [
    {
     "data": {
      "text/plain": [
       "188.19144550373616"
      ]
     },
     "execution_count": 16,
     "metadata": {},
     "output_type": "execute_result"
    }
   ],
   "source": [
    "# B0\n",
    "pipe.named_steps['lasso'].intercept_"
   ]
  },
  {
   "cell_type": "code",
   "execution_count": 17,
   "metadata": {},
   "outputs": [
    {
     "data": {
      "text/plain": [
       "188.19144550373616"
      ]
     },
     "execution_count": 17,
     "metadata": {},
     "output_type": "execute_result"
    }
   ],
   "source": [
    "# Average of Y's\n",
    "np.mean(y_train)"
   ]
  },
  {
   "cell_type": "code",
   "execution_count": 19,
   "metadata": {},
   "outputs": [
    {
     "name": "stdout",
     "output_type": "stream",
     "text": [
      "0.09329304026284686\n"
     ]
    }
   ],
   "source": [
    "# Best alpha\n",
    "best_alpha = gs.best_params_['lasso__alpha']\n",
    "print(best_alpha)"
   ]
  },
  {
   "cell_type": "code",
   "execution_count": 23,
   "metadata": {},
   "outputs": [
    {
     "name": "stdout",
     "output_type": "stream",
     "text": [
      "[  1.0573385   20.50452537  38.041879     0.          52.63790409\n",
      "  -4.55692791   3.28142924   1.76004883  -1.6536604    4.14256749\n",
      "  50.56305373 -38.33195506   5.13998074]\n"
     ]
    }
   ],
   "source": [
    "scaler = StandardScaler()\n",
    "lasso = Lasso(alpha=best_alpha,normalize=False,fit_intercept=True) #we will pass through alpha values later\n",
    "pipe = make_pipeline(scaler, lasso)\n",
    "pipe.fit(X_train, y_train)\n",
    "\n",
    "best_coef_lasso = pipe.named_steps['lasso'].coef_\n",
    "\n",
    "# print('The final set of coefficients: ')\n",
    "print(best_coef_lasso)"
   ]
  },
  {
   "cell_type": "code",
   "execution_count": 26,
   "metadata": {},
   "outputs": [
    {
     "name": "stdout",
     "output_type": "stream",
     "text": [
      "\n",
      "Coefficients  [lasso]\n",
      "   Feature  0:  1.06\n",
      "   Feature  1:  20.50\n",
      "   Feature  2:  38.04\n",
      "   Feature  3:  0.00\n",
      "   Feature  4:  52.64\n",
      "   Feature  5:  -4.56\n",
      "   Feature  6:  3.28\n",
      "   Feature  7:  1.76\n",
      "   Feature  8:  -1.65\n",
      "   Feature  9:  4.14\n",
      "   Feature 10:  50.56\n",
      "   Feature 11:  -38.33\n",
      "   Feature 12:  5.14\n"
     ]
    }
   ],
   "source": [
    "print('\\nCoefficients  [lasso]')\n",
    "for i in range(0,13):\n",
    "    print('   Feature %2i:  %.2f'%(i,\\\n",
    "                    best_coef_lasso[i]))"
   ]
  },
  {
   "cell_type": "code",
   "execution_count": null,
   "metadata": {},
   "outputs": [],
   "source": [
    "\n",
    "\n",
    "print(bike_sharing_df.columns)\n",
    "\n",
    "\n",
    "\n",
    "\n",
    "\n",
    "lm = sm.OLS(y_train, sm.add_constant(x_train)).fit()\n",
    "\n",
    "y_train_pred = lm.predict(sm.add_constant(x_train))\n",
    "y_test_pred = lm.predict(sm.add_constant(x_test))\n",
    "\n",
    "print('Train Score: ')\n",
    "print(r2_score(y_train, y_train_pred))\n",
    "\n",
    "print('\\nTest Score: ')\n",
    "print(r2_score(y_test, y_test_pred))"
   ]
  },
  {
   "cell_type": "code",
   "execution_count": null,
   "metadata": {},
   "outputs": [],
   "source": []
  },
  {
   "cell_type": "code",
   "execution_count": null,
   "metadata": {},
   "outputs": [],
   "source": []
  }
 ],
 "metadata": {
  "kernelspec": {
   "display_name": "Python 3",
   "language": "python",
   "name": "python3"
  },
  "language_info": {
   "codemirror_mode": {
    "name": "ipython",
    "version": 3
   },
   "file_extension": ".py",
   "mimetype": "text/x-python",
   "name": "python",
   "nbconvert_exporter": "python",
   "pygments_lexer": "ipython3",
   "version": "3.8.8"
  }
 },
 "nbformat": 4,
 "nbformat_minor": 2
}
