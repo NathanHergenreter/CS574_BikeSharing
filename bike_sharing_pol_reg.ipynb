{
 "cells": [
  {
   "cell_type": "code",
   "execution_count": 139,
   "metadata": {
    "id": "t3G_WntUQsaT"
   },
   "outputs": [],
   "source": [
    "import pandas as pd\n",
    "from pandas import DataFrame as df\n",
    "from csv_reader import *\n",
    "from csv_setup import *\n",
    "from scipy import stats"
   ]
  },
  {
   "cell_type": "code",
   "execution_count": 140,
   "metadata": {
    "colab": {
     "base_uri": "https://localhost:8080/",
     "height": 419
    },
    "id": "jZZSDjbbQ5kp",
    "outputId": "1f903dad-9d39-46ce-b3e8-c2e2a45a5038"
   },
   "outputs": [
    {
     "data": {
      "text/html": [
       "<div>\n",
       "<style scoped>\n",
       "    .dataframe tbody tr th:only-of-type {\n",
       "        vertical-align: middle;\n",
       "    }\n",
       "\n",
       "    .dataframe tbody tr th {\n",
       "        vertical-align: top;\n",
       "    }\n",
       "\n",
       "    .dataframe thead th {\n",
       "        text-align: right;\n",
       "    }\n",
       "</style>\n",
       "<table border=\"1\" class=\"dataframe\">\n",
       "  <thead>\n",
       "    <tr style=\"text-align: right;\">\n",
       "      <th></th>\n",
       "      <th>hr</th>\n",
       "      <th>holiday</th>\n",
       "      <th>workingday</th>\n",
       "      <th>weathersit</th>\n",
       "      <th>atemp</th>\n",
       "      <th>hum</th>\n",
       "      <th>windspeed</th>\n",
       "      <th>cnt</th>\n",
       "      <th>no_snow</th>\n",
       "      <th>medium_snow</th>\n",
       "      <th>heavy_snow</th>\n",
       "    </tr>\n",
       "  </thead>\n",
       "  <tbody>\n",
       "    <tr>\n",
       "      <th>0</th>\n",
       "      <td>0</td>\n",
       "      <td>0</td>\n",
       "      <td>0</td>\n",
       "      <td>1</td>\n",
       "      <td>0.2879</td>\n",
       "      <td>0.81</td>\n",
       "      <td>0.0000</td>\n",
       "      <td>16</td>\n",
       "      <td>0</td>\n",
       "      <td>0</td>\n",
       "      <td>1</td>\n",
       "    </tr>\n",
       "    <tr>\n",
       "      <th>1</th>\n",
       "      <td>1</td>\n",
       "      <td>0</td>\n",
       "      <td>0</td>\n",
       "      <td>1</td>\n",
       "      <td>0.2727</td>\n",
       "      <td>0.80</td>\n",
       "      <td>0.0000</td>\n",
       "      <td>40</td>\n",
       "      <td>0</td>\n",
       "      <td>0</td>\n",
       "      <td>1</td>\n",
       "    </tr>\n",
       "    <tr>\n",
       "      <th>2</th>\n",
       "      <td>2</td>\n",
       "      <td>0</td>\n",
       "      <td>0</td>\n",
       "      <td>1</td>\n",
       "      <td>0.2727</td>\n",
       "      <td>0.80</td>\n",
       "      <td>0.0000</td>\n",
       "      <td>32</td>\n",
       "      <td>0</td>\n",
       "      <td>0</td>\n",
       "      <td>1</td>\n",
       "    </tr>\n",
       "    <tr>\n",
       "      <th>3</th>\n",
       "      <td>3</td>\n",
       "      <td>0</td>\n",
       "      <td>0</td>\n",
       "      <td>1</td>\n",
       "      <td>0.2879</td>\n",
       "      <td>0.75</td>\n",
       "      <td>0.0000</td>\n",
       "      <td>13</td>\n",
       "      <td>0</td>\n",
       "      <td>0</td>\n",
       "      <td>1</td>\n",
       "    </tr>\n",
       "    <tr>\n",
       "      <th>4</th>\n",
       "      <td>4</td>\n",
       "      <td>0</td>\n",
       "      <td>0</td>\n",
       "      <td>1</td>\n",
       "      <td>0.2879</td>\n",
       "      <td>0.75</td>\n",
       "      <td>0.0000</td>\n",
       "      <td>1</td>\n",
       "      <td>0</td>\n",
       "      <td>0</td>\n",
       "      <td>1</td>\n",
       "    </tr>\n",
       "    <tr>\n",
       "      <th>...</th>\n",
       "      <td>...</td>\n",
       "      <td>...</td>\n",
       "      <td>...</td>\n",
       "      <td>...</td>\n",
       "      <td>...</td>\n",
       "      <td>...</td>\n",
       "      <td>...</td>\n",
       "      <td>...</td>\n",
       "      <td>...</td>\n",
       "      <td>...</td>\n",
       "      <td>...</td>\n",
       "    </tr>\n",
       "    <tr>\n",
       "      <th>17374</th>\n",
       "      <td>19</td>\n",
       "      <td>0</td>\n",
       "      <td>1</td>\n",
       "      <td>2</td>\n",
       "      <td>0.2576</td>\n",
       "      <td>0.60</td>\n",
       "      <td>0.1642</td>\n",
       "      <td>119</td>\n",
       "      <td>0</td>\n",
       "      <td>1</td>\n",
       "      <td>0</td>\n",
       "    </tr>\n",
       "    <tr>\n",
       "      <th>17375</th>\n",
       "      <td>20</td>\n",
       "      <td>0</td>\n",
       "      <td>1</td>\n",
       "      <td>2</td>\n",
       "      <td>0.2576</td>\n",
       "      <td>0.60</td>\n",
       "      <td>0.1642</td>\n",
       "      <td>89</td>\n",
       "      <td>0</td>\n",
       "      <td>1</td>\n",
       "      <td>0</td>\n",
       "    </tr>\n",
       "    <tr>\n",
       "      <th>17376</th>\n",
       "      <td>21</td>\n",
       "      <td>0</td>\n",
       "      <td>1</td>\n",
       "      <td>1</td>\n",
       "      <td>0.2576</td>\n",
       "      <td>0.60</td>\n",
       "      <td>0.1642</td>\n",
       "      <td>90</td>\n",
       "      <td>0</td>\n",
       "      <td>1</td>\n",
       "      <td>0</td>\n",
       "    </tr>\n",
       "    <tr>\n",
       "      <th>17377</th>\n",
       "      <td>22</td>\n",
       "      <td>0</td>\n",
       "      <td>1</td>\n",
       "      <td>1</td>\n",
       "      <td>0.2727</td>\n",
       "      <td>0.56</td>\n",
       "      <td>0.1343</td>\n",
       "      <td>61</td>\n",
       "      <td>0</td>\n",
       "      <td>1</td>\n",
       "      <td>0</td>\n",
       "    </tr>\n",
       "    <tr>\n",
       "      <th>17378</th>\n",
       "      <td>23</td>\n",
       "      <td>0</td>\n",
       "      <td>1</td>\n",
       "      <td>1</td>\n",
       "      <td>0.2727</td>\n",
       "      <td>0.65</td>\n",
       "      <td>0.1343</td>\n",
       "      <td>49</td>\n",
       "      <td>0</td>\n",
       "      <td>1</td>\n",
       "      <td>0</td>\n",
       "    </tr>\n",
       "  </tbody>\n",
       "</table>\n",
       "<p>17379 rows × 11 columns</p>\n",
       "</div>"
      ],
      "text/plain": [
       "       hr  holiday  workingday  weathersit   atemp   hum  windspeed  cnt  \\\n",
       "0       0        0           0           1  0.2879  0.81     0.0000   16   \n",
       "1       1        0           0           1  0.2727  0.80     0.0000   40   \n",
       "2       2        0           0           1  0.2727  0.80     0.0000   32   \n",
       "3       3        0           0           1  0.2879  0.75     0.0000   13   \n",
       "4       4        0           0           1  0.2879  0.75     0.0000    1   \n",
       "...    ..      ...         ...         ...     ...   ...        ...  ...   \n",
       "17374  19        0           1           2  0.2576  0.60     0.1642  119   \n",
       "17375  20        0           1           2  0.2576  0.60     0.1642   89   \n",
       "17376  21        0           1           1  0.2576  0.60     0.1642   90   \n",
       "17377  22        0           1           1  0.2727  0.56     0.1343   61   \n",
       "17378  23        0           1           1  0.2727  0.65     0.1343   49   \n",
       "\n",
       "       no_snow  medium_snow  heavy_snow  \n",
       "0            0            0           1  \n",
       "1            0            0           1  \n",
       "2            0            0           1  \n",
       "3            0            0           1  \n",
       "4            0            0           1  \n",
       "...        ...          ...         ...  \n",
       "17374        0            1           0  \n",
       "17375        0            1           0  \n",
       "17376        0            1           0  \n",
       "17377        0            1           0  \n",
       "17378        0            1           0  \n",
       "\n",
       "[17379 rows x 11 columns]"
      ]
     },
     "execution_count": 140,
     "metadata": {},
     "output_type": "execute_result"
    }
   ],
   "source": [
    "dat = get_bike_sharing_df_clean()\n",
    "dat"
   ]
  },
  {
   "cell_type": "markdown",
   "metadata": {
    "id": "ms9KXAHvVtQr"
   },
   "source": [
    "#### Removing target columns and date-day"
   ]
  },
  {
   "cell_type": "code",
   "execution_count": 141,
   "metadata": {
    "id": "qdQWznfJPSox"
   },
   "outputs": [],
   "source": [
    "dat_nodate = dat.drop(['cnt'], axis=1)"
   ]
  },
  {
   "cell_type": "markdown",
   "metadata": {
    "id": "YVut6aZXXPPo"
   },
   "source": [
    "### Finding variance in all columns"
   ]
  },
  {
   "cell_type": "code",
   "execution_count": 142,
   "metadata": {
    "id": "HdxRzzXNV3GU"
   },
   "outputs": [],
   "source": [
    "## Season is redundant given month and same goes for instant and hr\n",
    "# dat_nodate = dat_nodate.drop(['season', 'instant', 'yr'], axis=1)"
   ]
  },
  {
   "cell_type": "code",
   "execution_count": 143,
   "metadata": {
    "colab": {
     "base_uri": "https://localhost:8080/"
    },
    "id": "dNROyQHoRsMP",
    "outputId": "f7641629-e0b3-43d1-f515-4985bc437185"
   },
   "outputs": [
    {
     "data": {
      "text/plain": [
       "hr             47.808998\n",
       "weathersit      0.408777\n",
       "no_snow         0.249988\n",
       "medium_snow     0.222940\n",
       "workingday      0.216626\n",
       "heavy_snow      0.133991\n",
       "hum             0.037222\n",
       "atemp           0.029532\n",
       "holiday         0.027944\n",
       "windspeed       0.014967\n",
       "dtype: float64"
      ]
     },
     "execution_count": 143,
     "metadata": {},
     "output_type": "execute_result"
    }
   ],
   "source": [
    "vars = dat_nodate.var().sort_values(ascending=False)\n",
    "vars"
   ]
  },
  {
   "cell_type": "markdown",
   "metadata": {
    "id": "8E7losjWXwmj"
   },
   "source": [
    "### Finding correlation with target variable"
   ]
  },
  {
   "cell_type": "code",
   "execution_count": 144,
   "metadata": {
    "colab": {
     "base_uri": "https://localhost:8080/"
    },
    "id": "oX2CzPmSRsJ-",
    "outputId": "45a15635-184b-455d-cf7d-90716af50d0e"
   },
   "outputs": [
    {
     "data": {
      "text/plain": [
       "atemp          0.400929\n",
       "hr             0.394071\n",
       "hum            0.322911\n",
       "no_snow        0.240614\n",
       "heavy_snow     0.206725\n",
       "weathersit     0.142426\n",
       "medium_snow    0.094527\n",
       "windspeed      0.093234\n",
       "holiday        0.030927\n",
       "workingday     0.030284\n",
       "dtype: float64"
      ]
     },
     "execution_count": 144,
     "metadata": {},
     "output_type": "execute_result"
    }
   ],
   "source": [
    "corrs = dat_nodate.apply(lambda x: x.corr(dat.cnt)).abs().sort_values(ascending=False)\n",
    "corrs"
   ]
  },
  {
   "cell_type": "code",
   "execution_count": 145,
   "metadata": {
    "colab": {
     "base_uri": "https://localhost:8080/"
    },
    "id": "5E3Dd6WbRsHi",
    "outputId": "23a53c44-3369-4cc6-b468-07bc37436072"
   },
   "outputs": [
    {
     "data": {
      "text/plain": [
       "atemp          0.400929\n",
       "hr             0.394071\n",
       "hum            0.322911\n",
       "no_snow        0.240614\n",
       "heavy_snow     0.206725\n",
       "weathersit     0.142426\n",
       "medium_snow    0.094527\n",
       "windspeed      0.093234\n",
       "holiday        0.030927\n",
       "workingday     0.030284\n",
       "dtype: float64"
      ]
     },
     "execution_count": 145,
     "metadata": {},
     "output_type": "execute_result"
    }
   ],
   "source": [
    "corrs_sort = corrs.abs().sort_values(ascending=False)\n",
    "corrs_sort"
   ]
  },
  {
   "cell_type": "markdown",
   "metadata": {
    "id": "AYNA0ivWZ470"
   },
   "source": [
    "#### Get columns that correlate more with the target variable"
   ]
  },
  {
   "cell_type": "code",
   "execution_count": 146,
   "metadata": {
    "id": "Md4BFH0hRsEu"
   },
   "outputs": [],
   "source": [
    "sel_cols = vars[:]\n",
    "sel_col_names = sel_cols.keys().tolist()"
   ]
  },
  {
   "cell_type": "code",
   "execution_count": 147,
   "metadata": {
    "colab": {
     "base_uri": "https://localhost:8080/",
     "height": 419
    },
    "id": "Uv7FaEuJRsBv",
    "outputId": "2a7f2b9a-bb92-41ca-b4dd-d4036b27eb86"
   },
   "outputs": [
    {
     "data": {
      "text/html": [
       "<div>\n",
       "<style scoped>\n",
       "    .dataframe tbody tr th:only-of-type {\n",
       "        vertical-align: middle;\n",
       "    }\n",
       "\n",
       "    .dataframe tbody tr th {\n",
       "        vertical-align: top;\n",
       "    }\n",
       "\n",
       "    .dataframe thead th {\n",
       "        text-align: right;\n",
       "    }\n",
       "</style>\n",
       "<table border=\"1\" class=\"dataframe\">\n",
       "  <thead>\n",
       "    <tr style=\"text-align: right;\">\n",
       "      <th></th>\n",
       "      <th>hr</th>\n",
       "      <th>weathersit</th>\n",
       "      <th>no_snow</th>\n",
       "      <th>medium_snow</th>\n",
       "      <th>workingday</th>\n",
       "      <th>heavy_snow</th>\n",
       "      <th>hum</th>\n",
       "      <th>atemp</th>\n",
       "      <th>holiday</th>\n",
       "      <th>windspeed</th>\n",
       "    </tr>\n",
       "  </thead>\n",
       "  <tbody>\n",
       "    <tr>\n",
       "      <th>0</th>\n",
       "      <td>0</td>\n",
       "      <td>1</td>\n",
       "      <td>0</td>\n",
       "      <td>0</td>\n",
       "      <td>0</td>\n",
       "      <td>1</td>\n",
       "      <td>0.81</td>\n",
       "      <td>0.2879</td>\n",
       "      <td>0</td>\n",
       "      <td>0.0000</td>\n",
       "    </tr>\n",
       "    <tr>\n",
       "      <th>1</th>\n",
       "      <td>1</td>\n",
       "      <td>1</td>\n",
       "      <td>0</td>\n",
       "      <td>0</td>\n",
       "      <td>0</td>\n",
       "      <td>1</td>\n",
       "      <td>0.80</td>\n",
       "      <td>0.2727</td>\n",
       "      <td>0</td>\n",
       "      <td>0.0000</td>\n",
       "    </tr>\n",
       "    <tr>\n",
       "      <th>2</th>\n",
       "      <td>2</td>\n",
       "      <td>1</td>\n",
       "      <td>0</td>\n",
       "      <td>0</td>\n",
       "      <td>0</td>\n",
       "      <td>1</td>\n",
       "      <td>0.80</td>\n",
       "      <td>0.2727</td>\n",
       "      <td>0</td>\n",
       "      <td>0.0000</td>\n",
       "    </tr>\n",
       "    <tr>\n",
       "      <th>3</th>\n",
       "      <td>3</td>\n",
       "      <td>1</td>\n",
       "      <td>0</td>\n",
       "      <td>0</td>\n",
       "      <td>0</td>\n",
       "      <td>1</td>\n",
       "      <td>0.75</td>\n",
       "      <td>0.2879</td>\n",
       "      <td>0</td>\n",
       "      <td>0.0000</td>\n",
       "    </tr>\n",
       "    <tr>\n",
       "      <th>4</th>\n",
       "      <td>4</td>\n",
       "      <td>1</td>\n",
       "      <td>0</td>\n",
       "      <td>0</td>\n",
       "      <td>0</td>\n",
       "      <td>1</td>\n",
       "      <td>0.75</td>\n",
       "      <td>0.2879</td>\n",
       "      <td>0</td>\n",
       "      <td>0.0000</td>\n",
       "    </tr>\n",
       "    <tr>\n",
       "      <th>...</th>\n",
       "      <td>...</td>\n",
       "      <td>...</td>\n",
       "      <td>...</td>\n",
       "      <td>...</td>\n",
       "      <td>...</td>\n",
       "      <td>...</td>\n",
       "      <td>...</td>\n",
       "      <td>...</td>\n",
       "      <td>...</td>\n",
       "      <td>...</td>\n",
       "    </tr>\n",
       "    <tr>\n",
       "      <th>17374</th>\n",
       "      <td>19</td>\n",
       "      <td>2</td>\n",
       "      <td>0</td>\n",
       "      <td>1</td>\n",
       "      <td>1</td>\n",
       "      <td>0</td>\n",
       "      <td>0.60</td>\n",
       "      <td>0.2576</td>\n",
       "      <td>0</td>\n",
       "      <td>0.1642</td>\n",
       "    </tr>\n",
       "    <tr>\n",
       "      <th>17375</th>\n",
       "      <td>20</td>\n",
       "      <td>2</td>\n",
       "      <td>0</td>\n",
       "      <td>1</td>\n",
       "      <td>1</td>\n",
       "      <td>0</td>\n",
       "      <td>0.60</td>\n",
       "      <td>0.2576</td>\n",
       "      <td>0</td>\n",
       "      <td>0.1642</td>\n",
       "    </tr>\n",
       "    <tr>\n",
       "      <th>17376</th>\n",
       "      <td>21</td>\n",
       "      <td>1</td>\n",
       "      <td>0</td>\n",
       "      <td>1</td>\n",
       "      <td>1</td>\n",
       "      <td>0</td>\n",
       "      <td>0.60</td>\n",
       "      <td>0.2576</td>\n",
       "      <td>0</td>\n",
       "      <td>0.1642</td>\n",
       "    </tr>\n",
       "    <tr>\n",
       "      <th>17377</th>\n",
       "      <td>22</td>\n",
       "      <td>1</td>\n",
       "      <td>0</td>\n",
       "      <td>1</td>\n",
       "      <td>1</td>\n",
       "      <td>0</td>\n",
       "      <td>0.56</td>\n",
       "      <td>0.2727</td>\n",
       "      <td>0</td>\n",
       "      <td>0.1343</td>\n",
       "    </tr>\n",
       "    <tr>\n",
       "      <th>17378</th>\n",
       "      <td>23</td>\n",
       "      <td>1</td>\n",
       "      <td>0</td>\n",
       "      <td>1</td>\n",
       "      <td>1</td>\n",
       "      <td>0</td>\n",
       "      <td>0.65</td>\n",
       "      <td>0.2727</td>\n",
       "      <td>0</td>\n",
       "      <td>0.1343</td>\n",
       "    </tr>\n",
       "  </tbody>\n",
       "</table>\n",
       "<p>17379 rows × 10 columns</p>\n",
       "</div>"
      ],
      "text/plain": [
       "       hr  weathersit  no_snow  medium_snow  workingday  heavy_snow   hum  \\\n",
       "0       0           1        0            0           0           1  0.81   \n",
       "1       1           1        0            0           0           1  0.80   \n",
       "2       2           1        0            0           0           1  0.80   \n",
       "3       3           1        0            0           0           1  0.75   \n",
       "4       4           1        0            0           0           1  0.75   \n",
       "...    ..         ...      ...          ...         ...         ...   ...   \n",
       "17374  19           2        0            1           1           0  0.60   \n",
       "17375  20           2        0            1           1           0  0.60   \n",
       "17376  21           1        0            1           1           0  0.60   \n",
       "17377  22           1        0            1           1           0  0.56   \n",
       "17378  23           1        0            1           1           0  0.65   \n",
       "\n",
       "        atemp  holiday  windspeed  \n",
       "0      0.2879        0     0.0000  \n",
       "1      0.2727        0     0.0000  \n",
       "2      0.2727        0     0.0000  \n",
       "3      0.2879        0     0.0000  \n",
       "4      0.2879        0     0.0000  \n",
       "...       ...      ...        ...  \n",
       "17374  0.2576        0     0.1642  \n",
       "17375  0.2576        0     0.1642  \n",
       "17376  0.2576        0     0.1642  \n",
       "17377  0.2727        0     0.1343  \n",
       "17378  0.2727        0     0.1343  \n",
       "\n",
       "[17379 rows x 10 columns]"
      ]
     },
     "execution_count": 147,
     "metadata": {},
     "output_type": "execute_result"
    }
   ],
   "source": [
    "sel_dat = dat[sel_col_names]\n",
    "sel_dat"
   ]
  },
  {
   "cell_type": "markdown",
   "metadata": {
    "id": "CjvUX1fefgjc"
   },
   "source": [
    "#### Plotting output with respect to each input"
   ]
  },
  {
   "cell_type": "code",
   "execution_count": 148,
   "metadata": {
    "id": "gmfd40IpflOQ"
   },
   "outputs": [],
   "source": [
    "from matplotlib import pyplot as plt\n"
   ]
  },
  {
   "cell_type": "code",
   "execution_count": 149,
   "metadata": {
    "colab": {
     "base_uri": "https://localhost:8080/",
     "height": 1000
    },
    "id": "UeoSDnBtflLm",
    "outputId": "cbd37710-0897-4d1f-e440-8a2e8fc749e7"
   },
   "outputs": [
    {
     "data": {
      "image/png": "[encoded data removed]",
      "text/plain": [
       "<Figure size 1080x720 with 1 Axes>"
      ]
     },
     "metadata": {
      "needs_background": "light"
     },
     "output_type": "display_data"
    },
    {
     "data": {
      "image/png": "[encoded data removed]",
      "text/plain": [
       "<Figure size 1080x720 with 1 Axes>"
      ]
     },
     "metadata": {
      "needs_background": "light"
     },
     "output_type": "display_data"
    },
    {
     "data": {
      "image/png": "[encoded data removed]",
      "text/plain": [
       "<Figure size 1080x720 with 1 Axes>"
      ]
     },
     "metadata": {
      "needs_background": "light"
     },
     "output_type": "display_data"
    },
    {
     "data": {
      "image/png": "[encoded data removed]",
      "text/plain": [
       "<Figure size 1080x720 with 1 Axes>"
      ]
     },
     "metadata": {
      "needs_background": "light"
     },
     "output_type": "display_data"
    },
    {
     "data": {
      "image/png": "[encoded data removed]",
      "text/plain": [
       "<Figure size 1080x720 with 1 Axes>"
      ]
     },
     "metadata": {
      "needs_background": "light"
     },
     "output_type": "display_data"
    },
    {
     "data": {
      "image/png": "[encoded data removed]",
      "text/plain": [
       "<Figure size 1080x720 with 1 Axes>"
      ]
     },
     "metadata": {
      "needs_background": "light"
     },
     "output_type": "display_data"
    },
    {
     "data": {
      "image/png": "[encoded data removed]",
      "text/plain": [
       "<Figure size 1080x720 with 1 Axes>"
      ]
     },
     "metadata": {
      "needs_background": "light"
     },
     "output_type": "display_data"
    },
    {
     "data": {
      "image/png": "[encoded data removed]",
      "text/plain": [
       "<Figure size 1080x720 with 1 Axes>"
      ]
     },
     "metadata": {
      "needs_background": "light"
     },
     "output_type": "display_data"
    },
    {
     "data": {
      "image/png": "[encoded data removed]",
      "text/plain": [
       "<Figure size 1080x720 with 1 Axes>"
      ]
     },
     "metadata": {
      "needs_background": "light"
     },
     "output_type": "display_data"
    },
    {
     "data": {
      "image/png": "[encoded data removed]",
      "text/plain": [
       "<Figure size 1080x720 with 1 Axes>"
      ]
     },
     "metadata": {
      "needs_background": "light"
     },
     "output_type": "display_data"
    }
   ],
   "source": [
    "for col in sel_dat:\n",
    "  plt.figure(figsize=(15,10))\n",
    "  plt.scatter(sel_dat[col], dat['cnt'])\n",
    "  plt.xlabel(col)\n",
    "  plt.ylabel('Rentals')\n",
    "plt.show()"
   ]
  },
  {
   "cell_type": "markdown",
   "metadata": {
    "id": "imNbmol7gmR_"
   },
   "source": [
    "## Training Polynomial Regression Model"
   ]
  },
  {
   "cell_type": "code",
   "execution_count": 150,
   "metadata": {
    "id": "ja3JODq9guzi"
   },
   "outputs": [],
   "source": [
    "from sklearn.linear_model import LinearRegression, Lasso\n",
    "from sklearn.model_selection import train_test_split\n",
    "import numpy as np"
   ]
  },
  {
   "cell_type": "markdown",
   "metadata": {
    "id": "ZIUQSuIGc7xT"
   },
   "source": [
    "#### Data Normalization"
   ]
  },
  {
   "cell_type": "code",
   "execution_count": null,
   "metadata": {},
   "outputs": [],
   "source": []
  },
  {
   "cell_type": "code",
   "execution_count": 151,
   "metadata": {
    "colab": {
     "base_uri": "https://localhost:8080/",
     "height": 419
    },
    "id": "Y4D4Wguwc_xa",
    "outputId": "3f5780f4-f18b-47e5-d2f3-4d5ff1530520"
   },
   "outputs": [
    {
     "data": {
      "text/html": [
       "<div>\n",
       "<style scoped>\n",
       "    .dataframe tbody tr th:only-of-type {\n",
       "        vertical-align: middle;\n",
       "    }\n",
       "\n",
       "    .dataframe tbody tr th {\n",
       "        vertical-align: top;\n",
       "    }\n",
       "\n",
       "    .dataframe thead th {\n",
       "        text-align: right;\n",
       "    }\n",
       "</style>\n",
       "<table border=\"1\" class=\"dataframe\">\n",
       "  <thead>\n",
       "    <tr style=\"text-align: right;\">\n",
       "      <th></th>\n",
       "      <th>hr</th>\n",
       "      <th>weathersit</th>\n",
       "      <th>no_snow</th>\n",
       "      <th>medium_snow</th>\n",
       "      <th>workingday</th>\n",
       "      <th>heavy_snow</th>\n",
       "      <th>hum</th>\n",
       "      <th>atemp</th>\n",
       "      <th>holiday</th>\n",
       "      <th>windspeed</th>\n",
       "    </tr>\n",
       "  </thead>\n",
       "  <tbody>\n",
       "    <tr>\n",
       "      <th>0</th>\n",
       "      <td>-1.669956</td>\n",
       "      <td>-0.665174</td>\n",
       "      <td>-1.010324</td>\n",
       "      <td>-0.710476</td>\n",
       "      <td>-1.466858</td>\n",
       "      <td>2.296455</td>\n",
       "      <td>0.947345</td>\n",
       "      <td>-1.093249</td>\n",
       "      <td>-0.172107</td>\n",
       "      <td>-1.553844</td>\n",
       "    </tr>\n",
       "    <tr>\n",
       "      <th>1</th>\n",
       "      <td>-1.525330</td>\n",
       "      <td>-0.665174</td>\n",
       "      <td>-1.010324</td>\n",
       "      <td>-0.710476</td>\n",
       "      <td>-1.466858</td>\n",
       "      <td>2.296455</td>\n",
       "      <td>0.895513</td>\n",
       "      <td>-1.181698</td>\n",
       "      <td>-0.172107</td>\n",
       "      <td>-1.553844</td>\n",
       "    </tr>\n",
       "    <tr>\n",
       "      <th>2</th>\n",
       "      <td>-1.380705</td>\n",
       "      <td>-0.665174</td>\n",
       "      <td>-1.010324</td>\n",
       "      <td>-0.710476</td>\n",
       "      <td>-1.466858</td>\n",
       "      <td>2.296455</td>\n",
       "      <td>0.895513</td>\n",
       "      <td>-1.181698</td>\n",
       "      <td>-0.172107</td>\n",
       "      <td>-1.553844</td>\n",
       "    </tr>\n",
       "    <tr>\n",
       "      <th>3</th>\n",
       "      <td>-1.236079</td>\n",
       "      <td>-0.665174</td>\n",
       "      <td>-1.010324</td>\n",
       "      <td>-0.710476</td>\n",
       "      <td>-1.466858</td>\n",
       "      <td>2.296455</td>\n",
       "      <td>0.636351</td>\n",
       "      <td>-1.093249</td>\n",
       "      <td>-0.172107</td>\n",
       "      <td>-1.553844</td>\n",
       "    </tr>\n",
       "    <tr>\n",
       "      <th>4</th>\n",
       "      <td>-1.091454</td>\n",
       "      <td>-0.665174</td>\n",
       "      <td>-1.010324</td>\n",
       "      <td>-0.710476</td>\n",
       "      <td>-1.466858</td>\n",
       "      <td>2.296455</td>\n",
       "      <td>0.636351</td>\n",
       "      <td>-1.093249</td>\n",
       "      <td>-0.172107</td>\n",
       "      <td>-1.553844</td>\n",
       "    </tr>\n",
       "    <tr>\n",
       "      <th>...</th>\n",
       "      <td>...</td>\n",
       "      <td>...</td>\n",
       "      <td>...</td>\n",
       "      <td>...</td>\n",
       "      <td>...</td>\n",
       "      <td>...</td>\n",
       "      <td>...</td>\n",
       "      <td>...</td>\n",
       "      <td>...</td>\n",
       "      <td>...</td>\n",
       "    </tr>\n",
       "    <tr>\n",
       "      <th>17374</th>\n",
       "      <td>1.077931</td>\n",
       "      <td>0.898898</td>\n",
       "      <td>-1.010324</td>\n",
       "      <td>1.407426</td>\n",
       "      <td>0.681690</td>\n",
       "      <td>-0.435429</td>\n",
       "      <td>-0.141133</td>\n",
       "      <td>-1.269565</td>\n",
       "      <td>-0.172107</td>\n",
       "      <td>-0.211685</td>\n",
       "    </tr>\n",
       "    <tr>\n",
       "      <th>17375</th>\n",
       "      <td>1.222556</td>\n",
       "      <td>0.898898</td>\n",
       "      <td>-1.010324</td>\n",
       "      <td>1.407426</td>\n",
       "      <td>0.681690</td>\n",
       "      <td>-0.435429</td>\n",
       "      <td>-0.141133</td>\n",
       "      <td>-1.269565</td>\n",
       "      <td>-0.172107</td>\n",
       "      <td>-0.211685</td>\n",
       "    </tr>\n",
       "    <tr>\n",
       "      <th>17376</th>\n",
       "      <td>1.367182</td>\n",
       "      <td>-0.665174</td>\n",
       "      <td>-1.010324</td>\n",
       "      <td>1.407426</td>\n",
       "      <td>0.681690</td>\n",
       "      <td>-0.435429</td>\n",
       "      <td>-0.141133</td>\n",
       "      <td>-1.269565</td>\n",
       "      <td>-0.172107</td>\n",
       "      <td>-0.211685</td>\n",
       "    </tr>\n",
       "    <tr>\n",
       "      <th>17377</th>\n",
       "      <td>1.511807</td>\n",
       "      <td>-0.665174</td>\n",
       "      <td>-1.010324</td>\n",
       "      <td>1.407426</td>\n",
       "      <td>0.681690</td>\n",
       "      <td>-0.435429</td>\n",
       "      <td>-0.348463</td>\n",
       "      <td>-1.181698</td>\n",
       "      <td>-0.172107</td>\n",
       "      <td>-0.456086</td>\n",
       "    </tr>\n",
       "    <tr>\n",
       "      <th>17378</th>\n",
       "      <td>1.656433</td>\n",
       "      <td>-0.665174</td>\n",
       "      <td>-1.010324</td>\n",
       "      <td>1.407426</td>\n",
       "      <td>0.681690</td>\n",
       "      <td>-0.435429</td>\n",
       "      <td>0.118028</td>\n",
       "      <td>-1.181698</td>\n",
       "      <td>-0.172107</td>\n",
       "      <td>-0.456086</td>\n",
       "    </tr>\n",
       "  </tbody>\n",
       "</table>\n",
       "<p>17379 rows × 10 columns</p>\n",
       "</div>"
      ],
      "text/plain": [
       "             hr  weathersit   no_snow  medium_snow  workingday  heavy_snow  \\\n",
       "0     -1.669956   -0.665174 -1.010324    -0.710476   -1.466858    2.296455   \n",
       "1     -1.525330   -0.665174 -1.010324    -0.710476   -1.466858    2.296455   \n",
       "2     -1.380705   -0.665174 -1.010324    -0.710476   -1.466858    2.296455   \n",
       "3     -1.236079   -0.665174 -1.010324    -0.710476   -1.466858    2.296455   \n",
       "4     -1.091454   -0.665174 -1.010324    -0.710476   -1.466858    2.296455   \n",
       "...         ...         ...       ...          ...         ...         ...   \n",
       "17374  1.077931    0.898898 -1.010324     1.407426    0.681690   -0.435429   \n",
       "17375  1.222556    0.898898 -1.010324     1.407426    0.681690   -0.435429   \n",
       "17376  1.367182   -0.665174 -1.010324     1.407426    0.681690   -0.435429   \n",
       "17377  1.511807   -0.665174 -1.010324     1.407426    0.681690   -0.435429   \n",
       "17378  1.656433   -0.665174 -1.010324     1.407426    0.681690   -0.435429   \n",
       "\n",
       "            hum     atemp   holiday  windspeed  \n",
       "0      0.947345 -1.093249 -0.172107  -1.553844  \n",
       "1      0.895513 -1.181698 -0.172107  -1.553844  \n",
       "2      0.895513 -1.181698 -0.172107  -1.553844  \n",
       "3      0.636351 -1.093249 -0.172107  -1.553844  \n",
       "4      0.636351 -1.093249 -0.172107  -1.553844  \n",
       "...         ...       ...       ...        ...  \n",
       "17374 -0.141133 -1.269565 -0.172107  -0.211685  \n",
       "17375 -0.141133 -1.269565 -0.172107  -0.211685  \n",
       "17376 -0.141133 -1.269565 -0.172107  -0.211685  \n",
       "17377 -0.348463 -1.181698 -0.172107  -0.456086  \n",
       "17378  0.118028 -1.181698 -0.172107  -0.456086  \n",
       "\n",
       "[17379 rows x 10 columns]"
      ]
     },
     "execution_count": 151,
     "metadata": {},
     "output_type": "execute_result"
    }
   ],
   "source": [
    "sel_dat_norm = (sel_dat - sel_dat.mean()) / sel_dat.std()\n",
    "sel_dat_norm"
   ]
  },
  {
   "cell_type": "code",
   "execution_count": 152,
   "metadata": {
    "colab": {
     "base_uri": "https://localhost:8080/",
     "height": 419
    },
    "id": "HpbLl_NDko0K",
    "outputId": "9870766d-bbef-497c-8983-45d833eb76f5"
   },
   "outputs": [
    {
     "data": {
      "text/html": [
       "<div>\n",
       "<style scoped>\n",
       "    .dataframe tbody tr th:only-of-type {\n",
       "        vertical-align: middle;\n",
       "    }\n",
       "\n",
       "    .dataframe tbody tr th {\n",
       "        vertical-align: top;\n",
       "    }\n",
       "\n",
       "    .dataframe thead th {\n",
       "        text-align: right;\n",
       "    }\n",
       "</style>\n",
       "<table border=\"1\" class=\"dataframe\">\n",
       "  <thead>\n",
       "    <tr style=\"text-align: right;\">\n",
       "      <th></th>\n",
       "      <th>hr</th>\n",
       "      <th>weathersit</th>\n",
       "      <th>no_snow</th>\n",
       "      <th>medium_snow</th>\n",
       "      <th>workingday</th>\n",
       "      <th>heavy_snow</th>\n",
       "      <th>hum</th>\n",
       "      <th>atemp</th>\n",
       "      <th>holiday</th>\n",
       "      <th>windspeed</th>\n",
       "      <th>cnt</th>\n",
       "    </tr>\n",
       "  </thead>\n",
       "  <tbody>\n",
       "    <tr>\n",
       "      <th>0</th>\n",
       "      <td>-1.669956</td>\n",
       "      <td>-0.665174</td>\n",
       "      <td>-1.010324</td>\n",
       "      <td>-0.710476</td>\n",
       "      <td>-1.466858</td>\n",
       "      <td>2.296455</td>\n",
       "      <td>0.947345</td>\n",
       "      <td>-1.093249</td>\n",
       "      <td>-0.172107</td>\n",
       "      <td>-1.553844</td>\n",
       "      <td>16</td>\n",
       "    </tr>\n",
       "    <tr>\n",
       "      <th>1</th>\n",
       "      <td>-1.525330</td>\n",
       "      <td>-0.665174</td>\n",
       "      <td>-1.010324</td>\n",
       "      <td>-0.710476</td>\n",
       "      <td>-1.466858</td>\n",
       "      <td>2.296455</td>\n",
       "      <td>0.895513</td>\n",
       "      <td>-1.181698</td>\n",
       "      <td>-0.172107</td>\n",
       "      <td>-1.553844</td>\n",
       "      <td>40</td>\n",
       "    </tr>\n",
       "    <tr>\n",
       "      <th>2</th>\n",
       "      <td>-1.380705</td>\n",
       "      <td>-0.665174</td>\n",
       "      <td>-1.010324</td>\n",
       "      <td>-0.710476</td>\n",
       "      <td>-1.466858</td>\n",
       "      <td>2.296455</td>\n",
       "      <td>0.895513</td>\n",
       "      <td>-1.181698</td>\n",
       "      <td>-0.172107</td>\n",
       "      <td>-1.553844</td>\n",
       "      <td>32</td>\n",
       "    </tr>\n",
       "    <tr>\n",
       "      <th>3</th>\n",
       "      <td>-1.236079</td>\n",
       "      <td>-0.665174</td>\n",
       "      <td>-1.010324</td>\n",
       "      <td>-0.710476</td>\n",
       "      <td>-1.466858</td>\n",
       "      <td>2.296455</td>\n",
       "      <td>0.636351</td>\n",
       "      <td>-1.093249</td>\n",
       "      <td>-0.172107</td>\n",
       "      <td>-1.553844</td>\n",
       "      <td>13</td>\n",
       "    </tr>\n",
       "    <tr>\n",
       "      <th>4</th>\n",
       "      <td>-1.091454</td>\n",
       "      <td>-0.665174</td>\n",
       "      <td>-1.010324</td>\n",
       "      <td>-0.710476</td>\n",
       "      <td>-1.466858</td>\n",
       "      <td>2.296455</td>\n",
       "      <td>0.636351</td>\n",
       "      <td>-1.093249</td>\n",
       "      <td>-0.172107</td>\n",
       "      <td>-1.553844</td>\n",
       "      <td>1</td>\n",
       "    </tr>\n",
       "    <tr>\n",
       "      <th>...</th>\n",
       "      <td>...</td>\n",
       "      <td>...</td>\n",
       "      <td>...</td>\n",
       "      <td>...</td>\n",
       "      <td>...</td>\n",
       "      <td>...</td>\n",
       "      <td>...</td>\n",
       "      <td>...</td>\n",
       "      <td>...</td>\n",
       "      <td>...</td>\n",
       "      <td>...</td>\n",
       "    </tr>\n",
       "    <tr>\n",
       "      <th>17374</th>\n",
       "      <td>1.077931</td>\n",
       "      <td>0.898898</td>\n",
       "      <td>-1.010324</td>\n",
       "      <td>1.407426</td>\n",
       "      <td>0.681690</td>\n",
       "      <td>-0.435429</td>\n",
       "      <td>-0.141133</td>\n",
       "      <td>-1.269565</td>\n",
       "      <td>-0.172107</td>\n",
       "      <td>-0.211685</td>\n",
       "      <td>119</td>\n",
       "    </tr>\n",
       "    <tr>\n",
       "      <th>17375</th>\n",
       "      <td>1.222556</td>\n",
       "      <td>0.898898</td>\n",
       "      <td>-1.010324</td>\n",
       "      <td>1.407426</td>\n",
       "      <td>0.681690</td>\n",
       "      <td>-0.435429</td>\n",
       "      <td>-0.141133</td>\n",
       "      <td>-1.269565</td>\n",
       "      <td>-0.172107</td>\n",
       "      <td>-0.211685</td>\n",
       "      <td>89</td>\n",
       "    </tr>\n",
       "    <tr>\n",
       "      <th>17376</th>\n",
       "      <td>1.367182</td>\n",
       "      <td>-0.665174</td>\n",
       "      <td>-1.010324</td>\n",
       "      <td>1.407426</td>\n",
       "      <td>0.681690</td>\n",
       "      <td>-0.435429</td>\n",
       "      <td>-0.141133</td>\n",
       "      <td>-1.269565</td>\n",
       "      <td>-0.172107</td>\n",
       "      <td>-0.211685</td>\n",
       "      <td>90</td>\n",
       "    </tr>\n",
       "    <tr>\n",
       "      <th>17377</th>\n",
       "      <td>1.511807</td>\n",
       "      <td>-0.665174</td>\n",
       "      <td>-1.010324</td>\n",
       "      <td>1.407426</td>\n",
       "      <td>0.681690</td>\n",
       "      <td>-0.435429</td>\n",
       "      <td>-0.348463</td>\n",
       "      <td>-1.181698</td>\n",
       "      <td>-0.172107</td>\n",
       "      <td>-0.456086</td>\n",
       "      <td>61</td>\n",
       "    </tr>\n",
       "    <tr>\n",
       "      <th>17378</th>\n",
       "      <td>1.656433</td>\n",
       "      <td>-0.665174</td>\n",
       "      <td>-1.010324</td>\n",
       "      <td>1.407426</td>\n",
       "      <td>0.681690</td>\n",
       "      <td>-0.435429</td>\n",
       "      <td>0.118028</td>\n",
       "      <td>-1.181698</td>\n",
       "      <td>-0.172107</td>\n",
       "      <td>-0.456086</td>\n",
       "      <td>49</td>\n",
       "    </tr>\n",
       "  </tbody>\n",
       "</table>\n",
       "<p>17379 rows × 11 columns</p>\n",
       "</div>"
      ],
      "text/plain": [
       "             hr  weathersit   no_snow  medium_snow  workingday  heavy_snow  \\\n",
       "0     -1.669956   -0.665174 -1.010324    -0.710476   -1.466858    2.296455   \n",
       "1     -1.525330   -0.665174 -1.010324    -0.710476   -1.466858    2.296455   \n",
       "2     -1.380705   -0.665174 -1.010324    -0.710476   -1.466858    2.296455   \n",
       "3     -1.236079   -0.665174 -1.010324    -0.710476   -1.466858    2.296455   \n",
       "4     -1.091454   -0.665174 -1.010324    -0.710476   -1.466858    2.296455   \n",
       "...         ...         ...       ...          ...         ...         ...   \n",
       "17374  1.077931    0.898898 -1.010324     1.407426    0.681690   -0.435429   \n",
       "17375  1.222556    0.898898 -1.010324     1.407426    0.681690   -0.435429   \n",
       "17376  1.367182   -0.665174 -1.010324     1.407426    0.681690   -0.435429   \n",
       "17377  1.511807   -0.665174 -1.010324     1.407426    0.681690   -0.435429   \n",
       "17378  1.656433   -0.665174 -1.010324     1.407426    0.681690   -0.435429   \n",
       "\n",
       "            hum     atemp   holiday  windspeed  cnt  \n",
       "0      0.947345 -1.093249 -0.172107  -1.553844   16  \n",
       "1      0.895513 -1.181698 -0.172107  -1.553844   40  \n",
       "2      0.895513 -1.181698 -0.172107  -1.553844   32  \n",
       "3      0.636351 -1.093249 -0.172107  -1.553844   13  \n",
       "4      0.636351 -1.093249 -0.172107  -1.553844    1  \n",
       "...         ...       ...       ...        ...  ...  \n",
       "17374 -0.141133 -1.269565 -0.172107  -0.211685  119  \n",
       "17375 -0.141133 -1.269565 -0.172107  -0.211685   89  \n",
       "17376 -0.141133 -1.269565 -0.172107  -0.211685   90  \n",
       "17377 -0.348463 -1.181698 -0.172107  -0.456086   61  \n",
       "17378  0.118028 -1.181698 -0.172107  -0.456086   49  \n",
       "\n",
       "[17379 rows x 11 columns]"
      ]
     },
     "execution_count": 152,
     "metadata": {},
     "output_type": "execute_result"
    }
   ],
   "source": [
    "comb_dat = sel_dat_norm.copy()\n",
    "comb_dat['cnt'] = dat['cnt']\n",
    "comb_dat"
   ]
  },
  {
   "cell_type": "code",
   "execution_count": null,
   "metadata": {
    "id": "iHjMhh5TklzK"
   },
   "outputs": [],
   "source": []
  },
  {
   "cell_type": "code",
   "execution_count": null,
   "metadata": {
    "id": "lC6k_vkTTllj"
   },
   "outputs": [],
   "source": []
  },
  {
   "cell_type": "markdown",
   "metadata": {
    "id": "vSmagA2TUBFu"
   },
   "source": [
    "#### Fitting the data with 4th degree Polynomial"
   ]
  },
  {
   "cell_type": "code",
   "execution_count": 157,
   "metadata": {},
   "outputs": [
    {
     "data": {
      "text/plain": [
       "0         16\n",
       "1         40\n",
       "2         32\n",
       "3         13\n",
       "4          1\n",
       "        ... \n",
       "17374    119\n",
       "17375     89\n",
       "17376     90\n",
       "17377     61\n",
       "17378     49\n",
       "Name: cnt, Length: 17379, dtype: int64"
      ]
     },
     "execution_count": 157,
     "metadata": {},
     "output_type": "execute_result"
    }
   ],
   "source": [
    "n_train = round(len(comb_dat)*0.7)\n",
    "#X = comb_dat.iloc[:, :-1] \n",
    "#y = comb_dat['cnt'] \n",
    "\n",
    "X =  dat.drop(['cnt'], axis=1)\n",
    "y =  dat.cnt\n",
    "X_train, X_test, y_train, y_test = X[:n_train].to_numpy(), X[n_train:].to_numpy(), y[:n_train].to_numpy(na_value = 0), y[n_train:].to_numpy()\n",
    "\n",
    "type(y)\n",
    "y"
   ]
  },
  {
   "cell_type": "code",
   "execution_count": 163,
   "metadata": {},
   "outputs": [
    {
     "name": "stdout",
     "output_type": "stream",
     "text": [
      "TimeSeriesSplit(gap=0, max_train_size=None, n_splits=5, test_size=None)\n",
      "***********************************************************************************\n",
      "***********************************FOLD  1 ******************************************\n",
      "Train X Size Test X Size Train Y Size Test Y Size\n",
      "(2898, 10)    (2895, 10)    (2898,)    (2895,)\n",
      "[   0    1    2 ... 2896 2897 2898] [2899 2900 2901 ... 5792 5793 5794]\n",
      "Degree of Polynomial:  1 score :  0.23930639122485542 MSE_Test :  17145.13140933633 MSE_train :  5369.78207593992\n",
      "Degree of Polynomial:  2 score :  0.030978642234941622 MSE_Test :  21840.591699050827 MSE_train :  3740.783133993266\n",
      "Degree of Polynomial:  3 score :  -4.515015560865046 MSE_Test :  124301.90739714217 MSE_train :  3173.77723821657\n",
      "Degree of Polynomial:  4 score :  -254455592357.09064 MSE_Test :  5735127150397231.0 MSE_train :  2547.5242145305197\n",
      "Degree of Polynomial:  5 score :  -11739152571.523169 MSE_Test :  264586570951001.75 MSE_train :  2031.1089228319615\n",
      "***********************************************************************************\n",
      "***********************************FOLD  2 ******************************************\n",
      "Train X Size Test X Size Train Y Size Test Y Size\n",
      "(5794, 10)    (2895, 10)    (5794,)    (2895,)\n",
      "[   0    1    2 ... 5792 5793 5794] [5795 5796 5797 ... 8688 8689 8690]\n",
      "Degree of Polynomial:  1 score :  0.2614042904467998 MSE_Test :  12965.99669569394 MSE_train :  10494.816738132024\n",
      "Degree of Polynomial:  2 score :  0.43172198712157184 MSE_Test :  9976.081287656722 MSE_train :  7748.96884620557\n",
      "Degree of Polynomial:  3 score :  0.3713592601218514 MSE_Test :  11035.744793277285 MSE_train :  6277.082970301268\n",
      "Degree of Polynomial:  4 score :  -753.5636599698666 MSE_Test :  13246312.962985486 MSE_train :  5414.10319129839\n",
      "Degree of Polynomial:  5 score :  -67.70375419267641 MSE_Test :  1206089.6622089667 MSE_train :  4303.948191120965\n",
      "***********************************************************************************\n",
      "***********************************FOLD  3 ******************************************\n",
      "Train X Size Test X Size Train Y Size Test Y Size\n",
      "(8690, 10)    (2895, 10)    (8690,)    (2895,)\n",
      "[   0    1    2 ... 8688 8689 8690] [ 8691  8692  8693 ... 11584 11585 11586]\n",
      "Degree of Polynomial:  1 score :  0.11754236169886112 MSE_Test :  27859.532331398474 MSE_train :  11131.210989614732\n",
      "Degree of Polynomial:  2 score :  0.23502397487695748 MSE_Test :  24150.591914744597 MSE_train :  8206.149504827526\n",
      "Degree of Polynomial:  3 score :  0.24551487160652197 MSE_Test :  23819.3902072209 MSE_train :  6777.284634455235\n",
      "Degree of Polynomial:  4 score :  0.19376833048318431 MSE_Test :  25453.048722817213 MSE_train :  5952.231127647347\n",
      "Degree of Polynomial:  5 score :  -12.11587181243345 MSE_Test :  414073.1962119116 MSE_train :  4949.035832590247\n",
      "***********************************************************************************\n",
      "***********************************FOLD  4 ******************************************\n",
      "Train X Size Test X Size Train Y Size Test Y Size\n",
      "(11586, 10)    (2895, 10)    (11586,)    (2895,)\n",
      "[    0     1     2 ... 11584 11585 11586] [11587 11588 11589 ... 14480 14481 14482]\n",
      "Degree of Polynomial:  1 score :  0.18406263532611045 MSE_Test :  39433.24328008346 MSE_train :  14539.610515230825\n",
      "Degree of Polynomial:  2 score :  0.30995103452564887 MSE_Test :  33349.21270776162 MSE_train :  10939.596642711494\n",
      "Degree of Polynomial:  3 score :  0.3690764435736733 MSE_Test :  30491.754843998948 MSE_train :  9392.942472120609\n",
      "Degree of Polynomial:  4 score :  0.3853349335725923 MSE_Test :  29706.002138887303 MSE_train :  8361.750772414975\n",
      "Degree of Polynomial:  5 score :  0.420793632622498 MSE_Test :  27992.327086649628 MSE_train :  6980.608672400193\n",
      "***********************************************************************************\n",
      "***********************************FOLD  5 ******************************************\n",
      "Train X Size Test X Size Train Y Size Test Y Size\n",
      "(14482, 10)    (2895, 10)    (14482,)    (2895,)\n",
      "[    0     1     2 ... 14480 14481 14482] [14483 14484 14485 ... 17376 17377 17378]\n",
      "Degree of Polynomial:  1 score :  0.17825865552365128 MSE_Test :  38939.77981086903 MSE_train :  18944.867819347834\n",
      "Degree of Polynomial:  2 score :  0.3693940977485328 MSE_Test :  29882.462585297468 MSE_train :  14656.571417305648\n",
      "Degree of Polynomial:  3 score :  0.4309054397746077 MSE_Test :  26967.63040547966 MSE_train :  12653.338897134661\n",
      "Degree of Polynomial:  4 score :  0.3779790459988709 MSE_Test :  29475.648449921453 MSE_train :  11404.519402688984\n",
      "Degree of Polynomial:  5 score :  -36.51126179425387 MSE_Test :  1777542.6349357194 MSE_train :  9652.623350445121\n"
     ]
    }
   ],
   "source": [
    "from sklearn.model_selection import TimeSeriesSplit\n",
    "from sklearn.preprocessing import PolynomialFeatures\n",
    "from sklearn import linear_model\n",
    "from sklearn.pipeline import Pipeline\n",
    "from sklearn.metrics import mean_squared_error\n",
    "\n",
    "tscv = TimeSeriesSplit(n_splits=5)\n",
    "print(tscv)\n",
    "fold = 1\n",
    "#TimeSeriesSplit(gap=0, max_train_size=None, n_splits=, test_size=None)\n",
    "for train, test in tscv.split(X):\n",
    "    train_end = train[-1]\n",
    "    test_start = test[0]\n",
    "    test_end = test[-1]    \n",
    "    X_train = X[:train_end].to_numpy()\n",
    "    X_test = X[test_start:test_end].to_numpy()\n",
    "    y =  dat.cnt\n",
    "    #print(type(y))\n",
    "    y_train = y[:train_end].to_numpy()\n",
    "    y_test = y[test_start:test_end].to_numpy()\n",
    "    print(\"***********************************************************************************\")\n",
    "    print(\"***********************************FOLD \", fold ,\"******************************************\")\n",
    "    print(\"Train X Size\", \"Test X Size\", \"Train Y Size\", \"Test Y Size\")\n",
    "    print(X_train.shape,\"  \", X_test.shape, \"  \",  y_train.shape, \"  \", y_test.shape )\n",
    "    print(\"%s %s\" % (train, test))\n",
    "    \n",
    "    fold = fold + 1\n",
    "\n",
    "    dictlist = [dict() for x in range(5)]\n",
    "\n",
    "    x = 0\n",
    "\n",
    "    for i in dictlist:\n",
    "\n",
    "        poly = PolynomialFeatures(degree=x+1)  # Fitting nth degree polynomial on input features\n",
    "        X_train_poly = poly.fit_transform(X_train)\n",
    "        X_test_poly =  poly.fit_transform(X_test)\n",
    "\n",
    "        #poly_var_train, poly_var_test, res_train, res_test = train_test_split(poly_variables, train_dat['cnt'].values, test_size = 0.33, random_state = 1)\n",
    "\n",
    "        regression = linear_model.LinearRegression()  # Linear Regression with the fitted polynomial\n",
    "\n",
    "\n",
    "        model = regression.fit(X_train_poly, y_train)\n",
    "        score = model.score(X_test_poly, y_test)\n",
    "        #print(\"score : \", score)\n",
    "\n",
    "        preds = model.predict(X_test_poly)\n",
    "        #preds = np.around(preds).astype(np.int32).tolist()  # rounding off to integer values since bike rentals can only be integers\n",
    "        mse_train =  mean_squared_error(y_train, model.predict(X_train_poly))\n",
    "        mse_test = mean_squared_error(y_test, preds)\n",
    "        print(\"Degree of Polynomial: \", x+1, \"score : \", score, \"MSE_Test : \", mse_test, \"MSE_train : \", mse_train )\n",
    "\n",
    "        y = dictlist[x]\n",
    "        y['degree'] = x+1\n",
    "        y['poly_var_train'] = X_train_poly\n",
    "        y['poly_var_test'] =  X_test_poly\n",
    "        y['res_train'] = y_train\n",
    "        y['res_test'] = y_test\n",
    "        y['model'] = model\n",
    "        y['score'] = score\n",
    "        y['preds'] = preds\n",
    "        y['MSE_Test'] = mse_test\n",
    "\n",
    "        x= x+1\n",
    "    "
   ]
  },
  {
   "cell_type": "code",
   "execution_count": null,
   "metadata": {},
   "outputs": [],
   "source": [
    "train[-1]"
   ]
  },
  {
   "cell_type": "code",
   "execution_count": null,
   "metadata": {},
   "outputs": [],
   "source": [
    "type(y)"
   ]
  },
  {
   "cell_type": "code",
   "execution_count": null,
   "metadata": {},
   "outputs": [],
   "source": [
    "y_train.shape, X_train.shape\n"
   ]
  },
  {
   "cell_type": "code",
   "execution_count": null,
   "metadata": {
    "colab": {
     "base_uri": "https://localhost:8080/"
    },
    "id": "4ONy-tY-guuP",
    "outputId": "cac47754-a315-4837-f9ff-fb8c615e6879"
   },
   "outputs": [],
   "source": [
    "from sklearn.preprocessing import PolynomialFeatures\n",
    "from sklearn import linear_model\n",
    "from sklearn.pipeline import Pipeline\n",
    "from sklearn.metrics import mean_squared_error\n",
    "\n",
    "dictlist = [dict() for x in range(5)]\n",
    "\n",
    "x = 0\n",
    "\n",
    "for i in dictlist:\n",
    "    \n",
    "    poly = PolynomialFeatures(degree=x+1)  # Fitting nth degree polynomial on input features\n",
    "    X_train_poly = poly.fit_transform(X_train)\n",
    "    X_test_poly =  poly.fit_transform(X_test)\n",
    "\n",
    "    #poly_var_train, poly_var_test, res_train, res_test = train_test_split(poly_variables, train_dat['cnt'].values, test_size = 0.33, random_state = 1)\n",
    "    \n",
    "    regression = linear_model.LinearRegression()  # Linear Regression with the fitted polynomial\n",
    "\n",
    "    \n",
    "    model = regression.fit(X_train_poly, y_train)\n",
    "    score = model.score(X_test_poly, y_test)\n",
    "    #print(\"score : \", score)\n",
    "    \n",
    "    preds = model.predict(X_test_poly)\n",
    "    #preds = np.around(preds).astype(np.int32).tolist()  # rounding off to integer values since bike rentals can only be integers\n",
    "    mse_train =  mean_squared_error(y_train, model.predict(X_train_poly))\n",
    "    mse_test = mean_squared_error(y_test, preds)\n",
    "    print(\"Degree of Polynomial: \", x+1, \"score : \", score, \"MSE_Test : \", mse_test, \"MSE_train : \", mse_train )\n",
    "    \n",
    "    y = dictlist[x]\n",
    "    y['degree'] = x+1\n",
    "    y['poly_var_train'] = X_train_poly\n",
    "    y['poly_var_test'] =  X_test_poly\n",
    "    y['res_train'] = y_train\n",
    "    y['res_test'] = y_test\n",
    "    y['model'] = model\n",
    "    y['score'] = score\n",
    "    y['preds'] = preds\n",
    "    y['MSE_Test'] = mse_test\n",
    "    \n",
    "    x= x+1\n",
    "    "
   ]
  },
  {
   "cell_type": "code",
   "execution_count": null,
   "metadata": {},
   "outputs": [],
   "source": []
  },
  {
   "cell_type": "code",
   "execution_count": null,
   "metadata": {},
   "outputs": [],
   "source": []
  },
  {
   "cell_type": "code",
   "execution_count": null,
   "metadata": {},
   "outputs": [],
   "source": []
  },
  {
   "cell_type": "code",
   "execution_count": null,
   "metadata": {},
   "outputs": [],
   "source": []
  },
  {
   "cell_type": "code",
   "execution_count": null,
   "metadata": {},
   "outputs": [],
   "source": []
  },
  {
   "cell_type": "code",
   "execution_count": null,
   "metadata": {},
   "outputs": [],
   "source": []
  },
  {
   "cell_type": "code",
   "execution_count": null,
   "metadata": {
    "colab": {
     "base_uri": "https://localhost:8080/"
    },
    "id": "TB-91b6DyDpd",
    "outputId": "5fb21f26-ac07-4d32-a214-9bd1a0c02d9a"
   },
   "outputs": [],
   "source": []
  },
  {
   "cell_type": "code",
   "execution_count": null,
   "metadata": {},
   "outputs": [],
   "source": []
  },
  {
   "cell_type": "code",
   "execution_count": null,
   "metadata": {},
   "outputs": [],
   "source": []
  },
  {
   "cell_type": "markdown",
   "metadata": {
    "id": "7ef24A8HmpFj"
   },
   "source": [
    "### Inference on Test Data"
   ]
  },
  {
   "cell_type": "code",
   "execution_count": null,
   "metadata": {
    "id": "Y4iZ1KHojME-"
   },
   "outputs": [],
   "source": [
    "#preds = model.predict(poly_var_test)\n",
    "#preds = np.around(preds).astype(np.int32).tolist()  # rounding off to integer values since bike rentals can only be integers\n",
    "#gt = res_test"
   ]
  },
  {
   "cell_type": "markdown",
   "metadata": {
    "id": "tX5xdoiF8E7z"
   },
   "source": [
    "##### Plotting first 100 values"
   ]
  },
  {
   "cell_type": "code",
   "execution_count": null,
   "metadata": {
    "colab": {
     "base_uri": "https://localhost:8080/",
     "height": 863
    },
    "id": "hmr6XKsS2Xy2",
    "outputId": "3169d233-0dc1-4c37-f17c-fed85ee9c77b"
   },
   "outputs": [],
   "source": [
    "plt.figure(figsize=(20, 15))\n",
    "plt.plot(range(100), dictlist[0]['preds'][:100], label='Degrree 1 Poly Prediction')\n",
    "#plt.plot(range(10), dictlist[1]['preds'][:10], label='Degrree 2 Poly Prediction')\n",
    "#plt.plot(range(10), dictlist[2]['preds'][:10], label='Degrree 3 Poly Prediction')\n",
    "plt.plot(range(100), dictlist[3]['preds'][:100], label='Degrree 4 Poly Prediction')\n",
    "plt.plot(range(100), dictlist[4]['preds'][:100], label='Degrree 5 Poly Prediction')\n",
    "plt.plot(range(100), dictlist[5]['preds'][:100], label='Degrree 6 Poly Prediction')\n",
    "plt.plot(range(100), gt[:100], label='ground truth')\n",
    "plt.legend()\n",
    "plt.show()"
   ]
  },
  {
   "cell_type": "code",
   "execution_count": null,
   "metadata": {},
   "outputs": [],
   "source": []
  },
  {
   "cell_type": "code",
   "execution_count": null,
   "metadata": {},
   "outputs": [],
   "source": []
  }
 ],
 "metadata": {
  "colab": {
   "collapsed_sections": [],
   "name": "bike_sharing_2.ipynb",
   "provenance": []
  },
  "kernelspec": {
   "display_name": "Python 3",
   "language": "python",
   "name": "python3"
  },
  "language_info": {
   "codemirror_mode": {
    "name": "ipython",
    "version": 3
   },
   "file_extension": ".py",
   "mimetype": "text/x-python",
   "name": "python",
   "nbconvert_exporter": "python",
   "pygments_lexer": "ipython3",
   "version": "3.8.8"
  }
 },
 "nbformat": 4,
 "nbformat_minor": 1
}
