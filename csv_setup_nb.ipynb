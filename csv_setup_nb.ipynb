{
 "cells": [
  {
   "cell_type": "code",
   "execution_count": 31,
   "metadata": {},
   "outputs": [],
   "source": [
    "import pandas as pd\n",
    "import seaborn as sn\n",
    "import matplotlib.pyplot as plt\n",
    "\n",
    "from csv_reader import *"
   ]
  },
  {
   "cell_type": "code",
   "execution_count": 32,
   "metadata": {},
   "outputs": [],
   "source": [
    "def get_bike_sharing_df_clean():\n",
    "    # Copy orig to new df\n",
    "    bike_sharing_df_orig = get_bike_sharing_df()\n",
    "    bike_sharing_df = bike_sharing_df_orig.copy()\n",
    "\n",
    "    bike_sharing_df['spring'] = bike_sharing_df.season.apply(lambda x: 1 if x == 1 else 0)\n",
    "    bike_sharing_df['summer'] = bike_sharing_df.season.apply(lambda x: 1 if x == 2 else 0)\n",
    "    bike_sharing_df['fall'] = bike_sharing_df.season.apply(lambda x: 1 if x == 3 else 0)\n",
    "    bike_sharing_df['winter'] = bike_sharing_df.season.apply(lambda x: 1 if x == 4 else 0)\n",
    "\n",
    "    bike_sharing_df.drop(['instant', 'dteday', 'season', 'yr', 'temp', 'casual', 'registered'], axis=1, inplace=True)\n",
    "\n",
    "    return bike_sharing_df"
   ]
  }
 ],
 "metadata": {
  "kernelspec": {
   "display_name": "Python 3 (ipykernel)",
   "language": "python",
   "name": "python3"
  },
  "language_info": {
   "codemirror_mode": {
    "name": "ipython",
    "version": 3
   },
   "file_extension": ".py",
   "mimetype": "text/x-python",
   "name": "python",
   "nbconvert_exporter": "python",
   "pygments_lexer": "ipython3",
   "version": "3.7.3"
  }
 },
 "nbformat": 4,
 "nbformat_minor": 2
}
