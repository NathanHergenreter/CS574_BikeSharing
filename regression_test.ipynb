{
 "cells": [
  {
   "cell_type": "code",
   "execution_count": 1,
   "metadata": {},
   "outputs": [],
   "source": [
    "import pandas as pd\n",
    "import statsmodels.api as sm\n",
    "from sklearn.model_selection import train_test_split\n",
    "from sklearn.metrics import r2_score\n",
    "from sklearn.metrics import mean_squared_log_error\n",
    "\n",
    "from csv_setup import *"
   ]
  },
  {
   "cell_type": "code",
   "execution_count": 4,
   "metadata": {},
   "outputs": [
    {
     "name": "stdout",
     "output_type": "stream",
     "text": [
      "Train Score: \n",
      "0.3466383507500931\n",
      "\n",
      "Test Score: \n",
      "0.34687603619295526\n"
     ]
    },
    {
     "name": "stderr",
     "output_type": "stream",
     "text": [
      "C:\\Users\\megal\\Anaconda3\\lib\\site-packages\\numpy\\core\\fromnumeric.py:2629: FutureWarning: Method .ptp is deprecated and will be removed in a future version. Use numpy.ptp instead.\n",
      "  return ptp(axis=axis, out=out, **kwargs)\n"
     ]
    }
   ],
   "source": [
    "bike_sharing_df = get_bike_sharing_df_clean()\n",
    "bike_sharing_df.columns\n",
    "\n",
    "Y = bike_sharing_df.cnt\n",
    "X = bike_sharing_df.loc[:].drop(columns=[\"cnt\"])\n",
    "\n",
    "x_train, x_test, y_train, y_test = train_test_split(X, Y, test_size = 0.25, random_state = 1)\n",
    "\n",
    "lm = sm.OLS(y_train, sm.add_constant(x_train)).fit()\n",
    "\n",
    "y_train_pred = lm.predict(sm.add_constant(x_train))\n",
    "y_test_pred = lm.predict(sm.add_constant(x_test))\n",
    "\n",
    "print('Train Score: ')\n",
    "print(r2_score(y_train, y_train_pred))\n",
    "\n",
    "print('\\nTest Score: ')\n",
    "print(r2_score(y_test, y_test_pred))"
   ]
  },
  {
   "cell_type": "code",
   "execution_count": null,
   "metadata": {},
   "outputs": [],
   "source": []
  }
 ],
 "metadata": {
  "kernelspec": {
   "display_name": "Python 3",
   "language": "python",
   "name": "python3"
  },
  "language_info": {
   "codemirror_mode": {
    "name": "ipython",
    "version": 3
   },
   "file_extension": ".py",
   "mimetype": "text/x-python",
   "name": "python",
   "nbconvert_exporter": "python",
   "pygments_lexer": "ipython3",
   "version": "3.8.8"
  }
 },
 "nbformat": 4,
 "nbformat_minor": 2
}
