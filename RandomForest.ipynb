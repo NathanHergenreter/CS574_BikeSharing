{
 "cells": [
  {
   "cell_type": "code",
   "execution_count": 14,
   "id": "b614ce62",
   "metadata": {},
   "outputs": [],
   "source": [
    "import numpy as np\n",
    "\n",
    "\n",
    "from sklearn.model_selection import GridSearchCV\n",
    "from sklearn.ensemble import RandomForestRegressor\n",
    "from sklearn.model_selection import train_test_split\n",
    "\n",
    "\n",
    "\n",
    "\n",
    "from csv_reader import *\n",
    "from csv_setup import *"
   ]
  },
  {
   "cell_type": "code",
   "execution_count": 15,
   "id": "55c5fd2c",
   "metadata": {},
   "outputs": [],
   "source": [
    "bike_sharing_df = get_bike_sharing_df_clean()\n",
    "bike_sharing_df.columns\n",
    "\n",
    "Y = bike_sharing_df.cnt\n",
    "X = bike_sharing_df.loc[:].drop(columns=[\"cnt\"])\n",
    "\n",
    "\n",
    "\n",
    "x_train, x_test, y_train, y_test = train_test_split(X, Y, test_size = 0.33, random_state = 1)"
   ]
  },
  {
   "cell_type": "code",
   "execution_count": 17,
   "id": "f52d6a22",
   "metadata": {},
   "outputs": [],
   "source": [
    "# Finding best parameters for RandomForestRegressor\n",
    "rf = RandomForestRegressor(random_state=0)\n",
    "rf_params = {'n_estimators':np.arange(25,150,25),'max_depth':np.arange(1,11,2),'min_samples_leaf':np.arange(2,15,3)}\n",
    "\n",
    "from sklearn.model_selection import GridSearchCV\n",
    "gs_rf = GridSearchCV(rf,rf_params,cv=3)\n",
    "gs_rf.fit(x_train,y_train)\n",
    "b = gs_rf.best_params_"
   ]
  },
  {
   "cell_type": "code",
   "execution_count": 18,
   "id": "f5c24dfd",
   "metadata": {},
   "outputs": [
    {
     "name": "stdout",
     "output_type": "stream",
     "text": [
      "RMLSE for the data: 0.4702822136656541\n"
     ]
    }
   ],
   "source": [
    "# Fitting the model with best params\n",
    "RF = RandomForestRegressor(n_estimators=b['n_estimators'],max_depth=b['max_depth'],min_samples_leaf=b['min_samples_leaf'],random_state=0)\n",
    "model = RF.fit(x_train,y_train)\n",
    "y_pred = model.predict(x_test)\n",
    "\n",
    "from sklearn.metrics import mean_squared_log_error\n",
    "msle=mean_squared_log_error(y_pred,y_test)\n",
    "rmsle=np.sqrt(msle)\n",
    "print('RMLSE for the data:',rmsle) # For random forest"
   ]
  },
  {
   "cell_type": "code",
   "execution_count": null,
   "id": "76f35ae3",
   "metadata": {},
   "outputs": [],
   "source": []
  }
 ],
 "metadata": {
  "kernelspec": {
   "display_name": "Python 3",
   "language": "python",
   "name": "python3"
  },
  "language_info": {
   "codemirror_mode": {
    "name": "ipython",
    "version": 3
   },
   "file_extension": ".py",
   "mimetype": "text/x-python",
   "name": "python",
   "nbconvert_exporter": "python",
   "pygments_lexer": "ipython3",
   "version": "3.8.8"
  }
 },
 "nbformat": 4,
 "nbformat_minor": 5
}
